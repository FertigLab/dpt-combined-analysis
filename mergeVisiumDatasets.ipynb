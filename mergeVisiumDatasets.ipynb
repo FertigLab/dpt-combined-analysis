{
 "cells": [
  {
   "cell_type": "markdown",
   "id": "c315c62b",
   "metadata": {},
   "source": [
    "### Merge BTC DPT Visium Cohorts"
   ]
  },
  {
   "cell_type": "code",
   "execution_count": 1,
   "id": "1fbfa511",
   "metadata": {},
   "outputs": [
    {
     "name": "stderr",
     "output_type": "stream",
     "text": [
      "/Users/meredithwetzel/anaconda3/envs/scirpy2/lib/python3.11/site-packages/dask/dataframe/__init__.py:31: FutureWarning: The legacy Dask DataFrame implementation is deprecated and will be removed in a future version. Set the configuration option `dataframe.query-planning` to `True` or None to enable the new Dask Dataframe implementation and silence this warning.\n",
      "  warnings.warn(\n"
     ]
    },
    {
     "name": "stdout",
     "output_type": "stream",
     "text": [
      "scanpy==1.9.7 anndata==0.10.6 umap==0.5.6 numpy==1.26.4 scipy==1.13.0 pandas==2.2.1 scikit-learn==1.4.1.post1 statsmodels==0.14.1 igraph==0.11.4 pynndescent==0.5.12\n",
      "squidpy==1.6.5\n"
     ]
    }
   ],
   "source": [
    "import tarfile\n",
    "import warnings\n",
    "from glob import glob\n",
    "import os\n",
    "import anndata as ad\n",
    "import pandas as pd\n",
    "import scanpy as sc\n",
    "import squidpy as sq\n",
    "import re\n",
    "\n",
    "sc.set_figure_params(figsize=(4, 4))\n",
    "sc.settings.verbosity = 2  # verbosity: errors (0), warnings (1), info (2), hints (3)\n",
    "sc.logging.print_header()\n",
    "print(f\"squidpy=={sq.__version__}\")"
   ]
  },
  {
   "cell_type": "code",
   "execution_count": 2,
   "id": "f53bf75d",
   "metadata": {},
   "outputs": [],
   "source": [
    "# Load in h5ad files for both standard and HD Visium (based on Cirro directory stcuture)\n",
    "def load_h5ad_files(base_dir):\n",
    "    sample_dict = {}\n",
    "    for root, dirs, files in os.walk(base_dir):\n",
    "        for dir_name in dirs:\n",
    "            sample_dir = os.path.join(root, dir_name)\n",
    "            h5ad_files = [f for f in os.listdir(sample_dir) if f.endswith('.h5ad')]\n",
    "            if h5ad_files:\n",
    "                if len(h5ad_files) > 1: # should have only one h5ad file per directory but check for multiple\n",
    "                    raise ValueError(f\"Multiple h5ad files found in {sample_dir}, expected one.\")\n",
    "                file_path = os.path.join(sample_dir, h5ad_files[0])\n",
    "                print(f\"Loading: {file_path}\")\n",
    "                sample_dict[dir_name] = sc.read_h5ad(file_path)\n",
    "    return sample_dict"
   ]
  },
  {
   "cell_type": "code",
   "execution_count": 3,
   "id": "63909e7e",
   "metadata": {},
   "outputs": [
    {
     "name": "stdout",
     "output_type": "stream",
     "text": [
      "Loading: ../../rctd_testing/rctd/BTC_ST2/rctd.h5ad\n",
      "Loading: ../../rctd_testing/rctd/BTC_ST1/rctd.h5ad\n",
      "Loading: ../../rctd_testing/rctd_hd/BTC_HD1/rctd.h5ad\n",
      "Loading: ../../rctd_testing/rctd_hd/BTC_HD2/rctd.h5ad\n",
      "Loading: ../../rctd_testing/rctd_hd/BTC_HD3/rctd.h5ad\n",
      "Loading: ../../rctd_testing/rctd_hd/BTC_HD4/rctd.h5ad\n",
      "Standard samples: ['BTC_ST2', 'BTC_ST1']\n",
      "HD samples: ['BTC_HD1', 'BTC_HD2', 'BTC_HD3', 'BTC_HD4']\n"
     ]
    }
   ],
   "source": [
    "rctd_samples = load_h5ad_files(\"../../rctd_testing/rctd\")\n",
    "rctd_hd_samples = load_h5ad_files(\"../../rctd_testing/rctd_hd\")\n",
    "# list out the sample names in each\n",
    "print(\"Standard samples:\", list(rctd_samples.keys()))\n",
    "print(\"HD samples:\", list(rctd_hd_samples.keys()))"
   ]
  },
  {
   "cell_type": "code",
   "execution_count": 4,
   "id": "5af3a1b0",
   "metadata": {},
   "outputs": [
    {
     "name": "stdout",
     "output_type": "stream",
     "text": [
      "BTC_ST2\n",
      "BTC_ST1\n",
      "BTC_HD1\n",
      "BTC_HD2\n",
      "BTC_HD3\n",
      "BTC_HD4\n"
     ]
    }
   ],
   "source": [
    "# add metadata to each object for merging (sample name and type)\n",
    "for name, adata in rctd_samples.items():\n",
    "    print(name)\n",
    "    adata.obs[\"sample_name\"] = name\n",
    "    adata.obs[\"sample_type\"] = \"standard\"\n",
    "\n",
    "for name, adata in rctd_hd_samples.items():\n",
    "    print(name)\n",
    "    adata.obs[\"sample_name\"] = name\n",
    "    adata.obs[\"sample_type\"] = \"HD\"\n",
    "\n",
    "# merge all objects into one\n",
    "all_adatas = list(rctd_samples.values()) + list(rctd_hd_samples.values()) # list all objects together\n",
    "# combined_adata = ad.concat(all_adatas,uns_merge=\"unique\",index_unique=\"-\")\n",
    "#keys = [adata.obs[\"sample_name\"][0] for adata in all_adatas]  # assuming obs is not empty\n",
    "\n",
    "combined_adata = sc.concat(\n",
    "    all_adatas,\n",
    "    index_unique=\"-\",\n",
    "    uns_merge=\"unique\"  # keeps each spatial entry under its own key\n",
    ")"
   ]
  },
  {
   "cell_type": "code",
   "execution_count": 5,
   "id": "a1ffcb0c",
   "metadata": {},
   "outputs": [
    {
     "data": {
      "text/plain": [
       "AnnData object with n_obs × n_vars = 686634 × 18082\n",
       "    obs: 'in_tissue', 'cell_type', 'sample_name', 'sample_type'\n",
       "    uns: 'layout', 'spatial', 'spatialdata_attrs'\n",
       "    obsm: 'spatial'"
      ]
     },
     "execution_count": 5,
     "metadata": {},
     "output_type": "execute_result"
    }
   ],
   "source": [
    "combined_adata"
   ]
  },
  {
   "cell_type": "code",
   "execution_count": 6,
   "id": "c73a0b91",
   "metadata": {},
   "outputs": [
    {
     "data": {
      "text/html": [
       "<div>\n",
       "<style scoped>\n",
       "    .dataframe tbody tr th:only-of-type {\n",
       "        vertical-align: middle;\n",
       "    }\n",
       "\n",
       "    .dataframe tbody tr th {\n",
       "        vertical-align: top;\n",
       "    }\n",
       "\n",
       "    .dataframe thead th {\n",
       "        text-align: right;\n",
       "    }\n",
       "</style>\n",
       "<table border=\"1\" class=\"dataframe\">\n",
       "  <thead>\n",
       "    <tr style=\"text-align: right;\">\n",
       "      <th></th>\n",
       "      <th>in_tissue</th>\n",
       "      <th>cell_type</th>\n",
       "      <th>sample_name</th>\n",
       "      <th>sample_type</th>\n",
       "    </tr>\n",
       "  </thead>\n",
       "  <tbody>\n",
       "    <tr>\n",
       "      <th>AACACCTACTATCGAA-1-0</th>\n",
       "      <td>1</td>\n",
       "      <td>PERICYTES</td>\n",
       "      <td>BTC_ST2</td>\n",
       "      <td>standard</td>\n",
       "    </tr>\n",
       "    <tr>\n",
       "      <th>AACACGTGCATCGCAC-1-0</th>\n",
       "      <td>1</td>\n",
       "      <td>FIBROBLASTS</td>\n",
       "      <td>BTC_ST2</td>\n",
       "      <td>standard</td>\n",
       "    </tr>\n",
       "    <tr>\n",
       "      <th>AACACTTGGCAAGGAA-1-0</th>\n",
       "      <td>1</td>\n",
       "      <td>DUCTAL</td>\n",
       "      <td>BTC_ST2</td>\n",
       "      <td>standard</td>\n",
       "    </tr>\n",
       "    <tr>\n",
       "      <th>AACAGGAAGAGCATAG-1-0</th>\n",
       "      <td>1</td>\n",
       "      <td>DUCTAL</td>\n",
       "      <td>BTC_ST2</td>\n",
       "      <td>standard</td>\n",
       "    </tr>\n",
       "    <tr>\n",
       "      <th>AACAGGATTCATAGTT-1-0</th>\n",
       "      <td>1</td>\n",
       "      <td>FIBROBLASTS</td>\n",
       "      <td>BTC_ST2</td>\n",
       "      <td>standard</td>\n",
       "    </tr>\n",
       "    <tr>\n",
       "      <th>...</th>\n",
       "      <td>...</td>\n",
       "      <td>...</td>\n",
       "      <td>...</td>\n",
       "      <td>...</td>\n",
       "    </tr>\n",
       "    <tr>\n",
       "      <th>s_016um_00375_00231-1-5</th>\n",
       "      <td>1</td>\n",
       "      <td>PERICYTES</td>\n",
       "      <td>BTC_HD4</td>\n",
       "      <td>HD</td>\n",
       "    </tr>\n",
       "    <tr>\n",
       "      <th>s_016um_00109_00223-1-5</th>\n",
       "      <td>1</td>\n",
       "      <td>FIBROBLASTS</td>\n",
       "      <td>BTC_HD4</td>\n",
       "      <td>HD</td>\n",
       "    </tr>\n",
       "    <tr>\n",
       "      <th>s_016um_00039_00175-1-5</th>\n",
       "      <td>1</td>\n",
       "      <td>DUCTAL</td>\n",
       "      <td>BTC_HD4</td>\n",
       "      <td>HD</td>\n",
       "    </tr>\n",
       "    <tr>\n",
       "      <th>s_016um_00037_00193-1-5</th>\n",
       "      <td>1</td>\n",
       "      <td>ENDOTHELIAL</td>\n",
       "      <td>BTC_HD4</td>\n",
       "      <td>HD</td>\n",
       "    </tr>\n",
       "    <tr>\n",
       "      <th>s_016um_00144_00329-1-5</th>\n",
       "      <td>1</td>\n",
       "      <td>NaN</td>\n",
       "      <td>BTC_HD4</td>\n",
       "      <td>HD</td>\n",
       "    </tr>\n",
       "  </tbody>\n",
       "</table>\n",
       "<p>686634 rows × 4 columns</p>\n",
       "</div>"
      ],
      "text/plain": [
       "                         in_tissue    cell_type sample_name sample_type\n",
       "AACACCTACTATCGAA-1-0             1    PERICYTES     BTC_ST2    standard\n",
       "AACACGTGCATCGCAC-1-0             1  FIBROBLASTS     BTC_ST2    standard\n",
       "AACACTTGGCAAGGAA-1-0             1       DUCTAL     BTC_ST2    standard\n",
       "AACAGGAAGAGCATAG-1-0             1       DUCTAL     BTC_ST2    standard\n",
       "AACAGGATTCATAGTT-1-0             1  FIBROBLASTS     BTC_ST2    standard\n",
       "...                            ...          ...         ...         ...\n",
       "s_016um_00375_00231-1-5          1    PERICYTES     BTC_HD4          HD\n",
       "s_016um_00109_00223-1-5          1  FIBROBLASTS     BTC_HD4          HD\n",
       "s_016um_00039_00175-1-5          1       DUCTAL     BTC_HD4          HD\n",
       "s_016um_00037_00193-1-5          1  ENDOTHELIAL     BTC_HD4          HD\n",
       "s_016um_00144_00329-1-5          1          NaN     BTC_HD4          HD\n",
       "\n",
       "[686634 rows x 4 columns]"
      ]
     },
     "execution_count": 6,
     "metadata": {},
     "output_type": "execute_result"
    }
   ],
   "source": [
    "combined_adata.obs"
   ]
  },
  {
   "cell_type": "code",
   "execution_count": 7,
   "id": "f177baea",
   "metadata": {},
   "outputs": [
    {
     "data": {
      "text/plain": [
       "sample_name\n",
       "BTC_HD3    174601\n",
       "BTC_HD1    169550\n",
       "BTC_HD4    168236\n",
       "BTC_HD2    164263\n",
       "BTC_ST2      4992\n",
       "BTC_ST1      4992\n",
       "Name: count, dtype: int64"
      ]
     },
     "execution_count": 7,
     "metadata": {},
     "output_type": "execute_result"
    }
   ],
   "source": [
    "combined_adata.obs[\"sample_name\"].value_counts()"
   ]
  },
  {
   "cell_type": "code",
   "execution_count": 8,
   "id": "61f83979",
   "metadata": {},
   "outputs": [
    {
     "data": {
      "text/plain": [
       "cell_type\n",
       "FIBROBLASTS         197042\n",
       "DUCTAL               45909\n",
       "ACINAR               41596\n",
       "CYCLING DUCTAL       32457\n",
       "MYELOID               7168\n",
       "ENDOCRINE             6853\n",
       "ENDOTHELIAL           6795\n",
       "PERICYTES             4777\n",
       "PLASMA                1331\n",
       "TNK                    962\n",
       "CYCLING. MYELOID       711\n",
       "B CELLS                379\n",
       "MAST                   218\n",
       "CYCLING TNK             67\n",
       "Name: count, dtype: int64"
      ]
     },
     "execution_count": 8,
     "metadata": {},
     "output_type": "execute_result"
    }
   ],
   "source": [
    "combined_adata.obs[\"cell_type\"].value_counts()"
   ]
  },
  {
   "cell_type": "code",
   "execution_count": 9,
   "id": "5cc86a28",
   "metadata": {},
   "outputs": [],
   "source": [
    "# define cell types of interest\n",
    "ductal_cells = [\"DUCTAL\",\"CYCLING DUCTAL\"]\n",
    "fibro_ductal_cells = [\"FIBROBLASTS\",\"DUCTAL\",\"CYCLING DUCTAL\"]"
   ]
  },
  {
   "cell_type": "code",
   "execution_count": 10,
   "id": "905c2093",
   "metadata": {},
   "outputs": [],
   "source": [
    "# susbet combined object to cell types of interest\n",
    "ductal_adata = combined_adata[combined_adata.obs[\"cell_type\"].isin(ductal_cells)].copy()\n",
    "fibro_ductal_adata = combined_adata[combined_adata.obs[\"cell_type\"].isin(fibro_ductal_cells)].copy()"
   ]
  },
  {
   "cell_type": "code",
   "execution_count": 11,
   "id": "26852225",
   "metadata": {},
   "outputs": [
    {
     "data": {
      "text/plain": [
       "AnnData object with n_obs × n_vars = 78366 × 18082\n",
       "    obs: 'in_tissue', 'cell_type', 'sample_name', 'sample_type'\n",
       "    uns: 'layout', 'spatial', 'spatialdata_attrs'\n",
       "    obsm: 'spatial'"
      ]
     },
     "execution_count": 11,
     "metadata": {},
     "output_type": "execute_result"
    }
   ],
   "source": [
    "ductal_adata"
   ]
  },
  {
   "cell_type": "code",
   "execution_count": 12,
   "id": "979b8333",
   "metadata": {},
   "outputs": [
    {
     "data": {
      "text/html": [
       "<div>\n",
       "<style scoped>\n",
       "    .dataframe tbody tr th:only-of-type {\n",
       "        vertical-align: middle;\n",
       "    }\n",
       "\n",
       "    .dataframe tbody tr th {\n",
       "        vertical-align: top;\n",
       "    }\n",
       "\n",
       "    .dataframe thead th {\n",
       "        text-align: right;\n",
       "    }\n",
       "</style>\n",
       "<table border=\"1\" class=\"dataframe\">\n",
       "  <thead>\n",
       "    <tr style=\"text-align: right;\">\n",
       "      <th></th>\n",
       "      <th>in_tissue</th>\n",
       "      <th>cell_type</th>\n",
       "      <th>sample_name</th>\n",
       "      <th>sample_type</th>\n",
       "    </tr>\n",
       "  </thead>\n",
       "  <tbody>\n",
       "    <tr>\n",
       "      <th>AACACTTGGCAAGGAA-1-0</th>\n",
       "      <td>1</td>\n",
       "      <td>DUCTAL</td>\n",
       "      <td>BTC_ST2</td>\n",
       "      <td>standard</td>\n",
       "    </tr>\n",
       "    <tr>\n",
       "      <th>AACAGGAAGAGCATAG-1-0</th>\n",
       "      <td>1</td>\n",
       "      <td>DUCTAL</td>\n",
       "      <td>BTC_ST2</td>\n",
       "      <td>standard</td>\n",
       "    </tr>\n",
       "    <tr>\n",
       "      <th>AACAGGTTATTGCACC-1-0</th>\n",
       "      <td>1</td>\n",
       "      <td>DUCTAL</td>\n",
       "      <td>BTC_ST2</td>\n",
       "      <td>standard</td>\n",
       "    </tr>\n",
       "    <tr>\n",
       "      <th>AACAGGTTCACCGAAG-1-0</th>\n",
       "      <td>1</td>\n",
       "      <td>DUCTAL</td>\n",
       "      <td>BTC_ST2</td>\n",
       "      <td>standard</td>\n",
       "    </tr>\n",
       "    <tr>\n",
       "      <th>AACATCTAATGACCGG-1-0</th>\n",
       "      <td>1</td>\n",
       "      <td>DUCTAL</td>\n",
       "      <td>BTC_ST2</td>\n",
       "      <td>standard</td>\n",
       "    </tr>\n",
       "    <tr>\n",
       "      <th>...</th>\n",
       "      <td>...</td>\n",
       "      <td>...</td>\n",
       "      <td>...</td>\n",
       "      <td>...</td>\n",
       "    </tr>\n",
       "    <tr>\n",
       "      <th>s_016um_00046_00250-1-5</th>\n",
       "      <td>1</td>\n",
       "      <td>DUCTAL</td>\n",
       "      <td>BTC_HD4</td>\n",
       "      <td>HD</td>\n",
       "    </tr>\n",
       "    <tr>\n",
       "      <th>s_016um_00367_00225-1-5</th>\n",
       "      <td>1</td>\n",
       "      <td>CYCLING DUCTAL</td>\n",
       "      <td>BTC_HD4</td>\n",
       "      <td>HD</td>\n",
       "    </tr>\n",
       "    <tr>\n",
       "      <th>s_016um_00267_00377-1-5</th>\n",
       "      <td>1</td>\n",
       "      <td>CYCLING DUCTAL</td>\n",
       "      <td>BTC_HD4</td>\n",
       "      <td>HD</td>\n",
       "    </tr>\n",
       "    <tr>\n",
       "      <th>s_016um_00193_00227-1-5</th>\n",
       "      <td>1</td>\n",
       "      <td>DUCTAL</td>\n",
       "      <td>BTC_HD4</td>\n",
       "      <td>HD</td>\n",
       "    </tr>\n",
       "    <tr>\n",
       "      <th>s_016um_00039_00175-1-5</th>\n",
       "      <td>1</td>\n",
       "      <td>DUCTAL</td>\n",
       "      <td>BTC_HD4</td>\n",
       "      <td>HD</td>\n",
       "    </tr>\n",
       "  </tbody>\n",
       "</table>\n",
       "<p>78366 rows × 4 columns</p>\n",
       "</div>"
      ],
      "text/plain": [
       "                         in_tissue       cell_type sample_name sample_type\n",
       "AACACTTGGCAAGGAA-1-0             1          DUCTAL     BTC_ST2    standard\n",
       "AACAGGAAGAGCATAG-1-0             1          DUCTAL     BTC_ST2    standard\n",
       "AACAGGTTATTGCACC-1-0             1          DUCTAL     BTC_ST2    standard\n",
       "AACAGGTTCACCGAAG-1-0             1          DUCTAL     BTC_ST2    standard\n",
       "AACATCTAATGACCGG-1-0             1          DUCTAL     BTC_ST2    standard\n",
       "...                            ...             ...         ...         ...\n",
       "s_016um_00046_00250-1-5          1          DUCTAL     BTC_HD4          HD\n",
       "s_016um_00367_00225-1-5          1  CYCLING DUCTAL     BTC_HD4          HD\n",
       "s_016um_00267_00377-1-5          1  CYCLING DUCTAL     BTC_HD4          HD\n",
       "s_016um_00193_00227-1-5          1          DUCTAL     BTC_HD4          HD\n",
       "s_016um_00039_00175-1-5          1          DUCTAL     BTC_HD4          HD\n",
       "\n",
       "[78366 rows x 4 columns]"
      ]
     },
     "execution_count": 12,
     "metadata": {},
     "output_type": "execute_result"
    }
   ],
   "source": [
    "ductal_adata.obs"
   ]
  },
  {
   "cell_type": "code",
   "execution_count": 13,
   "id": "d6efcc58",
   "metadata": {},
   "outputs": [
    {
     "data": {
      "text/plain": [
       "sample_name\n",
       "BTC_HD1    43343\n",
       "BTC_HD4    20245\n",
       "BTC_HD2    11599\n",
       "BTC_ST2     1259\n",
       "BTC_ST1     1229\n",
       "BTC_HD3      691\n",
       "Name: count, dtype: int64"
      ]
     },
     "execution_count": 13,
     "metadata": {},
     "output_type": "execute_result"
    }
   ],
   "source": [
    "ductal_adata.obs[\"sample_name\"].value_counts()"
   ]
  },
  {
   "cell_type": "code",
   "execution_count": 14,
   "id": "0409b0d0",
   "metadata": {},
   "outputs": [
    {
     "data": {
      "text/plain": [
       "cell_type\n",
       "DUCTAL            45909\n",
       "CYCLING DUCTAL    32457\n",
       "Name: count, dtype: int64"
      ]
     },
     "execution_count": 14,
     "metadata": {},
     "output_type": "execute_result"
    }
   ],
   "source": [
    "ductal_adata.obs[\"cell_type\"].value_counts()"
   ]
  },
  {
   "cell_type": "code",
   "execution_count": 15,
   "id": "15949e08",
   "metadata": {},
   "outputs": [
    {
     "data": {
      "text/plain": [
       "AnnData object with n_obs × n_vars = 275408 × 18082\n",
       "    obs: 'in_tissue', 'cell_type', 'sample_name', 'sample_type'\n",
       "    uns: 'layout', 'spatial', 'spatialdata_attrs'\n",
       "    obsm: 'spatial'"
      ]
     },
     "execution_count": 15,
     "metadata": {},
     "output_type": "execute_result"
    }
   ],
   "source": [
    "fibro_ductal_adata"
   ]
  },
  {
   "cell_type": "code",
   "execution_count": 16,
   "id": "bbafe72f",
   "metadata": {},
   "outputs": [
    {
     "data": {
      "text/html": [
       "<div>\n",
       "<style scoped>\n",
       "    .dataframe tbody tr th:only-of-type {\n",
       "        vertical-align: middle;\n",
       "    }\n",
       "\n",
       "    .dataframe tbody tr th {\n",
       "        vertical-align: top;\n",
       "    }\n",
       "\n",
       "    .dataframe thead th {\n",
       "        text-align: right;\n",
       "    }\n",
       "</style>\n",
       "<table border=\"1\" class=\"dataframe\">\n",
       "  <thead>\n",
       "    <tr style=\"text-align: right;\">\n",
       "      <th></th>\n",
       "      <th>in_tissue</th>\n",
       "      <th>cell_type</th>\n",
       "      <th>sample_name</th>\n",
       "      <th>sample_type</th>\n",
       "    </tr>\n",
       "  </thead>\n",
       "  <tbody>\n",
       "    <tr>\n",
       "      <th>AACACGTGCATCGCAC-1-0</th>\n",
       "      <td>1</td>\n",
       "      <td>FIBROBLASTS</td>\n",
       "      <td>BTC_ST2</td>\n",
       "      <td>standard</td>\n",
       "    </tr>\n",
       "    <tr>\n",
       "      <th>AACACTTGGCAAGGAA-1-0</th>\n",
       "      <td>1</td>\n",
       "      <td>DUCTAL</td>\n",
       "      <td>BTC_ST2</td>\n",
       "      <td>standard</td>\n",
       "    </tr>\n",
       "    <tr>\n",
       "      <th>AACAGGAAGAGCATAG-1-0</th>\n",
       "      <td>1</td>\n",
       "      <td>DUCTAL</td>\n",
       "      <td>BTC_ST2</td>\n",
       "      <td>standard</td>\n",
       "    </tr>\n",
       "    <tr>\n",
       "      <th>AACAGGATTCATAGTT-1-0</th>\n",
       "      <td>1</td>\n",
       "      <td>FIBROBLASTS</td>\n",
       "      <td>BTC_ST2</td>\n",
       "      <td>standard</td>\n",
       "    </tr>\n",
       "    <tr>\n",
       "      <th>AACAGGCCAACGATTA-1-0</th>\n",
       "      <td>1</td>\n",
       "      <td>FIBROBLASTS</td>\n",
       "      <td>BTC_ST2</td>\n",
       "      <td>standard</td>\n",
       "    </tr>\n",
       "    <tr>\n",
       "      <th>...</th>\n",
       "      <td>...</td>\n",
       "      <td>...</td>\n",
       "      <td>...</td>\n",
       "      <td>...</td>\n",
       "    </tr>\n",
       "    <tr>\n",
       "      <th>s_016um_00212_00331-1-5</th>\n",
       "      <td>1</td>\n",
       "      <td>FIBROBLASTS</td>\n",
       "      <td>BTC_HD4</td>\n",
       "      <td>HD</td>\n",
       "    </tr>\n",
       "    <tr>\n",
       "      <th>s_016um_00288_00288-1-5</th>\n",
       "      <td>1</td>\n",
       "      <td>FIBROBLASTS</td>\n",
       "      <td>BTC_HD4</td>\n",
       "      <td>HD</td>\n",
       "    </tr>\n",
       "    <tr>\n",
       "      <th>s_016um_00193_00227-1-5</th>\n",
       "      <td>1</td>\n",
       "      <td>DUCTAL</td>\n",
       "      <td>BTC_HD4</td>\n",
       "      <td>HD</td>\n",
       "    </tr>\n",
       "    <tr>\n",
       "      <th>s_016um_00109_00223-1-5</th>\n",
       "      <td>1</td>\n",
       "      <td>FIBROBLASTS</td>\n",
       "      <td>BTC_HD4</td>\n",
       "      <td>HD</td>\n",
       "    </tr>\n",
       "    <tr>\n",
       "      <th>s_016um_00039_00175-1-5</th>\n",
       "      <td>1</td>\n",
       "      <td>DUCTAL</td>\n",
       "      <td>BTC_HD4</td>\n",
       "      <td>HD</td>\n",
       "    </tr>\n",
       "  </tbody>\n",
       "</table>\n",
       "<p>275408 rows × 4 columns</p>\n",
       "</div>"
      ],
      "text/plain": [
       "                         in_tissue    cell_type sample_name sample_type\n",
       "AACACGTGCATCGCAC-1-0             1  FIBROBLASTS     BTC_ST2    standard\n",
       "AACACTTGGCAAGGAA-1-0             1       DUCTAL     BTC_ST2    standard\n",
       "AACAGGAAGAGCATAG-1-0             1       DUCTAL     BTC_ST2    standard\n",
       "AACAGGATTCATAGTT-1-0             1  FIBROBLASTS     BTC_ST2    standard\n",
       "AACAGGCCAACGATTA-1-0             1  FIBROBLASTS     BTC_ST2    standard\n",
       "...                            ...          ...         ...         ...\n",
       "s_016um_00212_00331-1-5          1  FIBROBLASTS     BTC_HD4          HD\n",
       "s_016um_00288_00288-1-5          1  FIBROBLASTS     BTC_HD4          HD\n",
       "s_016um_00193_00227-1-5          1       DUCTAL     BTC_HD4          HD\n",
       "s_016um_00109_00223-1-5          1  FIBROBLASTS     BTC_HD4          HD\n",
       "s_016um_00039_00175-1-5          1       DUCTAL     BTC_HD4          HD\n",
       "\n",
       "[275408 rows x 4 columns]"
      ]
     },
     "execution_count": 16,
     "metadata": {},
     "output_type": "execute_result"
    }
   ],
   "source": [
    "fibro_ductal_adata.obs"
   ]
  },
  {
   "cell_type": "code",
   "execution_count": 17,
   "id": "65262a49",
   "metadata": {},
   "outputs": [
    {
     "data": {
      "text/plain": [
       "sample_name\n",
       "BTC_HD4    128259\n",
       "BTC_HD1    116110\n",
       "BTC_HD2     20711\n",
       "BTC_ST1      4786\n",
       "BTC_ST2      4785\n",
       "BTC_HD3       757\n",
       "Name: count, dtype: int64"
      ]
     },
     "execution_count": 17,
     "metadata": {},
     "output_type": "execute_result"
    }
   ],
   "source": [
    "fibro_ductal_adata.obs[\"sample_name\"].value_counts()"
   ]
  },
  {
   "cell_type": "code",
   "execution_count": 18,
   "id": "54d6791f",
   "metadata": {},
   "outputs": [
    {
     "data": {
      "text/plain": [
       "cell_type\n",
       "FIBROBLASTS       197042\n",
       "DUCTAL             45909\n",
       "CYCLING DUCTAL     32457\n",
       "Name: count, dtype: int64"
      ]
     },
     "execution_count": 18,
     "metadata": {},
     "output_type": "execute_result"
    }
   ],
   "source": [
    "fibro_ductal_adata.obs[\"cell_type\"].value_counts()"
   ]
  },
  {
   "cell_type": "code",
   "execution_count": null,
   "id": "1f167ae4",
   "metadata": {},
   "outputs": [],
   "source": []
  }
 ],
 "metadata": {
  "kernelspec": {
   "display_name": "scirpy2",
   "language": "python",
   "name": "python3"
  },
  "language_info": {
   "codemirror_mode": {
    "name": "ipython",
    "version": 3
   },
   "file_extension": ".py",
   "mimetype": "text/x-python",
   "name": "python",
   "nbconvert_exporter": "python",
   "pygments_lexer": "ipython3",
   "version": "3.11.8"
  }
 },
 "nbformat": 4,
 "nbformat_minor": 5
}
