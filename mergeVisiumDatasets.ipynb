{
 "cells": [
  {
   "cell_type": "markdown",
   "id": "c315c62b",
   "metadata": {},
   "source": [
    "### Merge BTC DPT Visium Cohorts"
   ]
  },
  {
   "cell_type": "code",
   "execution_count": 1,
   "id": "1fbfa511",
   "metadata": {},
   "outputs": [
    {
     "name": "stderr",
     "output_type": "stream",
     "text": [
      "/Users/dlvovs/envs/scverse/lib/python3.11/site-packages/dask/dataframe/__init__.py:31: FutureWarning: The legacy Dask DataFrame implementation is deprecated and will be removed in a future version. Set the configuration option `dataframe.query-planning` to `True` or None to enable the new Dask Dataframe implementation and silence this warning.\n",
      "  warnings.warn(\n"
     ]
    },
    {
     "name": "stdout",
     "output_type": "stream",
     "text": [
      "squidpy==1.6.6.dev23+g349b75a\n"
     ]
    }
   ],
   "source": [
    "import tarfile\n",
    "import warnings\n",
    "from glob import glob\n",
    "import os\n",
    "import anndata as ad\n",
    "import pandas as pd\n",
    "import scanpy as sc\n",
    "import squidpy as sq\n",
    "import re\n",
    "from cirro import DataPortal\n",
    "from cirro.file_utils import get_files_in_directory\n",
    "\n",
    "# set up cirro data portal access\n",
    "portal = DataPortal()\n",
    "\n",
    "sc.set_figure_params(figsize=(4, 4))\n",
    "sc.settings.verbosity = 2  # verbosity: errors (0), warnings (1), info (2), hints (3)\n",
    "sc.logging.print_header()\n",
    "print(f\"squidpy=={sq.__version__}\")"
   ]
  },
  {
   "cell_type": "code",
   "execution_count": 2,
   "id": "42d498ed",
   "metadata": {},
   "outputs": [],
   "source": [
    "# adapt cirro code into function to pull in h5ad files\n",
    "def get_cirro_h5ad_files(project_name, dataset_id):\n",
    "    # access the cirro project\n",
    "    project = portal.get_project_by_name(project_name)\n",
    "    all_datasets = project.list_datasets()\n",
    "    #print(f\"The project {project.name} contains {len(all_datasets):,} datasets\")\n",
    "    # access the dataset of interest within the cirro project - updated to get by ID instead of by name\n",
    "    # dataset = project.get_dataset_by_id(dataset_id)\n",
    "    dataset = all_datasets.get_by_id(dataset_id)\n",
    "    # get the complete list of files in that dataset\n",
    "    files = dataset.list_files()\n",
    "    #print(f\"Dataset {dataset.name} contains {len(files):,} files\")\n",
    "    # parse out the rctd.h5ad files\n",
    "    rctds = files.filter_by_pattern(\"*/rctd.h5ad\")\n",
    "    print(f\"Selected the file: {rctds.description()}\")\n",
    "    return rctds # cirro data portal object with all rctd.h5ad files"
   ]
  },
  {
   "cell_type": "code",
   "execution_count": 3,
   "id": "886a6ef2",
   "metadata": {},
   "outputs": [
    {
     "name": "stdout",
     "output_type": "stream",
     "text": [
      "Selected the file: data/rctd/BTC01_visium/rctd.h5ad (298.80 MB)\n",
      "\n",
      "---\n",
      "\n",
      "data/rctd/BTC03_visium/rctd.h5ad (343.67 MB)\n",
      "\n",
      "---\n",
      "\n",
      "data/rctd/BTC09_visium/rctd.h5ad (415.15 MB)\n",
      "\n",
      "---\n",
      "\n",
      "data/rctd/BTC13_visium/rctd.h5ad (451.86 MB)\n",
      "Selected the file: data/rctd/HC01BTC_visiumHD/rctd.h5ad (640.37 MB)\n",
      "\n",
      "---\n",
      "\n",
      "data/rctd/HC03BTC_visiumHD/rctd.h5ad (478.49 MB)\n",
      "\n",
      "---\n",
      "\n",
      "data/rctd/HC04BTC_visiumHD/rctd.h5ad (468.65 MB)\n",
      "\n",
      "---\n",
      "\n",
      "data/rctd/HC05BTC_visiumHD/rctd.h5ad (302.23 MB)\n",
      "\n",
      "---\n",
      "\n",
      "data/rctd/HC07BTC_visiumHD/rctd.h5ad (289.04 MB)\n",
      "\n",
      "---\n",
      "\n",
      "data/rctd/HC08BTC_visiumHD/rctd.h5ad (262.03 MB)\n"
     ]
    }
   ],
   "source": [
    "visST = get_cirro_h5ad_files('BTC-DPT-Development', '3a6e2d6c-3167-4c8c-b43c-da50b930ed11')\n",
    "visHD = get_cirro_h5ad_files('BTC-DPT-Development', 'e87dd656-833c-4433-b7a7-9f2fd38eb10f')"
   ]
  },
  {
   "cell_type": "code",
   "execution_count": 4,
   "id": "9f1543c7",
   "metadata": {},
   "outputs": [],
   "source": [
    "def load_cirro_h5ad_files(file_list):\n",
    "    # file list is a cirro dataset object (output of get_cirro_h5ad_files)\n",
    "    sample_dict = {}\n",
    "    for dataset in file_list:\n",
    "        name = dataset.name.split(\"/\")[-2] # just dataset name\n",
    "        print(f\"Loading dataset: {name}\")\n",
    "        adata = dataset.read_h5ad()\n",
    "        sample_dict[name] = adata\n",
    "    return sample_dict"
   ]
  },
  {
   "cell_type": "code",
   "execution_count": 5,
   "id": "dc760f53",
   "metadata": {},
   "outputs": [
    {
     "name": "stdout",
     "output_type": "stream",
     "text": [
      "Loading dataset: BTC01_visium\n",
      "Loading dataset: BTC03_visium\n",
      "Loading dataset: BTC09_visium\n",
      "Loading dataset: BTC13_visium\n",
      "Loading dataset: HC01BTC_visiumHD\n",
      "Loading dataset: HC03BTC_visiumHD\n",
      "Loading dataset: HC04BTC_visiumHD\n",
      "Loading dataset: HC05BTC_visiumHD\n",
      "Loading dataset: HC07BTC_visiumHD\n",
      "Loading dataset: HC08BTC_visiumHD\n",
      "Standard samples: ['BTC01_visium', 'BTC03_visium', 'BTC09_visium', 'BTC13_visium']\n",
      "HD samples: ['HC01BTC_visiumHD', 'HC03BTC_visiumHD', 'HC04BTC_visiumHD', 'HC05BTC_visiumHD', 'HC07BTC_visiumHD', 'HC08BTC_visiumHD']\n"
     ]
    }
   ],
   "source": [
    "rctd_samples = load_cirro_h5ad_files(visST)\n",
    "rctd_hd_samples = load_cirro_h5ad_files(visHD)\n",
    "print(\"Standard samples:\", list(rctd_samples.keys()))\n",
    "print(\"HD samples:\", list(rctd_hd_samples.keys()))"
   ]
  },
  {
   "cell_type": "code",
   "execution_count": 8,
   "id": "5af3a1b0",
   "metadata": {},
   "outputs": [
    {
     "name": "stdout",
     "output_type": "stream",
     "text": [
      "BTC01_visium\n",
      "BTC03_visium\n",
      "BTC09_visium\n",
      "BTC13_visium\n",
      "HC01BTC_visiumHD\n",
      "HC03BTC_visiumHD\n",
      "HC04BTC_visiumHD\n",
      "HC05BTC_visiumHD\n",
      "HC07BTC_visiumHD\n",
      "HC08BTC_visiumHD\n"
     ]
    }
   ],
   "source": [
    "# add metadata to each object for merging (sample name and type)\n",
    "for name, adata in rctd_samples.items():\n",
    "    print(name)\n",
    "    adata.obs[\"BTC_sample_name\"] = name\n",
    "    adata.obs[\"sample_type\"] = \"standard\"\n",
    "    adata.obs_names = name + \"-\" + adata.obs_names\n",
    "\n",
    "for name, adata in rctd_hd_samples.items():\n",
    "    print(name)\n",
    "    adata.obs[\"BTC_sample_name\"] = name\n",
    "    adata.obs[\"sample_type\"] = \"HD\"\n",
    "    adata.obs_names = name + \"-\" + adata.obs_names\n",
    "\n",
    "# merge all objects into one\n",
    "all_adatas = list(rctd_samples.values()) + list(rctd_hd_samples.values()) # list all objects together\n",
    "\n",
    "combined_adata = sc.concat(\n",
    "    all_adatas,\n",
    "    index_unique=\"-\",\n",
    "    uns_merge=\"unique\"  # keeps each spatial entry under its own key\n",
    ")"
   ]
  },
  {
   "cell_type": "code",
   "execution_count": 9,
   "id": "a1ffcb0c",
   "metadata": {},
   "outputs": [
    {
     "data": {
      "text/plain": [
       "AnnData object with n_obs × n_vars = 1010315 × 18082\n",
       "    obs: 'in_tissue', 'array_row', 'array_col', 'region', 'cell_type', 'BTC_sample_name', 'sample_type'\n",
       "    uns: 'layout', 'spatial', 'spatial_neighbors', 'spatialdata_attrs'\n",
       "    obsm: 'spatial'"
      ]
     },
     "execution_count": 9,
     "metadata": {},
     "output_type": "execute_result"
    }
   ],
   "source": [
    "combined_adata"
   ]
  },
  {
   "cell_type": "code",
   "execution_count": 10,
   "id": "c73a0b91",
   "metadata": {},
   "outputs": [
    {
     "data": {
      "text/html": [
       "<div>\n",
       "<style scoped>\n",
       "    .dataframe tbody tr th:only-of-type {\n",
       "        vertical-align: middle;\n",
       "    }\n",
       "\n",
       "    .dataframe tbody tr th {\n",
       "        vertical-align: top;\n",
       "    }\n",
       "\n",
       "    .dataframe thead th {\n",
       "        text-align: right;\n",
       "    }\n",
       "</style>\n",
       "<table border=\"1\" class=\"dataframe\">\n",
       "  <thead>\n",
       "    <tr style=\"text-align: right;\">\n",
       "      <th></th>\n",
       "      <th>in_tissue</th>\n",
       "      <th>array_row</th>\n",
       "      <th>array_col</th>\n",
       "      <th>region</th>\n",
       "      <th>cell_type</th>\n",
       "      <th>BTC_sample_name</th>\n",
       "      <th>sample_type</th>\n",
       "    </tr>\n",
       "  </thead>\n",
       "  <tbody>\n",
       "    <tr>\n",
       "      <th>BTC01_visium-AACACCTACTATCGAA-1-0</th>\n",
       "      <td>1.0</td>\n",
       "      <td>0.0</td>\n",
       "      <td>122.0</td>\n",
       "      <td>BTC01_visium</td>\n",
       "      <td>FIBROBLASTS</td>\n",
       "      <td>BTC01_visium</td>\n",
       "      <td>standard</td>\n",
       "    </tr>\n",
       "    <tr>\n",
       "      <th>BTC01_visium-AACACGTGCATCGCAC-1-0</th>\n",
       "      <td>1.0</td>\n",
       "      <td>76.0</td>\n",
       "      <td>22.0</td>\n",
       "      <td>BTC01_visium</td>\n",
       "      <td>PDAC</td>\n",
       "      <td>BTC01_visium</td>\n",
       "      <td>standard</td>\n",
       "    </tr>\n",
       "    <tr>\n",
       "      <th>BTC01_visium-AACACTTGGCAAGGAA-1-0</th>\n",
       "      <td>1.0</td>\n",
       "      <td>47.0</td>\n",
       "      <td>71.0</td>\n",
       "      <td>BTC01_visium</td>\n",
       "      <td>FIBROBLASTS</td>\n",
       "      <td>BTC01_visium</td>\n",
       "      <td>standard</td>\n",
       "    </tr>\n",
       "    <tr>\n",
       "      <th>BTC01_visium-AACAGGAAGAGCATAG-1-0</th>\n",
       "      <td>1.0</td>\n",
       "      <td>69.0</td>\n",
       "      <td>7.0</td>\n",
       "      <td>BTC01_visium</td>\n",
       "      <td>FIBROBLASTS</td>\n",
       "      <td>BTC01_visium</td>\n",
       "      <td>standard</td>\n",
       "    </tr>\n",
       "    <tr>\n",
       "      <th>BTC01_visium-AACAGGATTCATAGTT-1-0</th>\n",
       "      <td>1.0</td>\n",
       "      <td>49.0</td>\n",
       "      <td>43.0</td>\n",
       "      <td>BTC01_visium</td>\n",
       "      <td>FIBROBLASTS</td>\n",
       "      <td>BTC01_visium</td>\n",
       "      <td>standard</td>\n",
       "    </tr>\n",
       "    <tr>\n",
       "      <th>...</th>\n",
       "      <td>...</td>\n",
       "      <td>...</td>\n",
       "      <td>...</td>\n",
       "      <td>...</td>\n",
       "      <td>...</td>\n",
       "      <td>...</td>\n",
       "      <td>...</td>\n",
       "    </tr>\n",
       "    <tr>\n",
       "      <th>HC08BTC_visiumHD-s_016um_00193_00227-1-9</th>\n",
       "      <td>1.0</td>\n",
       "      <td>193.0</td>\n",
       "      <td>227.0</td>\n",
       "      <td>HC08BTC_visiumHD_square_016um</td>\n",
       "      <td>NaN</td>\n",
       "      <td>HC08BTC_visiumHD</td>\n",
       "      <td>HD</td>\n",
       "    </tr>\n",
       "    <tr>\n",
       "      <th>HC08BTC_visiumHD-s_016um_00109_00223-1-9</th>\n",
       "      <td>1.0</td>\n",
       "      <td>109.0</td>\n",
       "      <td>223.0</td>\n",
       "      <td>HC08BTC_visiumHD_square_016um</td>\n",
       "      <td>NaN</td>\n",
       "      <td>HC08BTC_visiumHD</td>\n",
       "      <td>HD</td>\n",
       "    </tr>\n",
       "    <tr>\n",
       "      <th>HC08BTC_visiumHD-s_016um_00039_00175-1-9</th>\n",
       "      <td>1.0</td>\n",
       "      <td>39.0</td>\n",
       "      <td>175.0</td>\n",
       "      <td>HC08BTC_visiumHD_square_016um</td>\n",
       "      <td>NaN</td>\n",
       "      <td>HC08BTC_visiumHD</td>\n",
       "      <td>HD</td>\n",
       "    </tr>\n",
       "    <tr>\n",
       "      <th>HC08BTC_visiumHD-s_016um_00037_00193-1-9</th>\n",
       "      <td>1.0</td>\n",
       "      <td>37.0</td>\n",
       "      <td>193.0</td>\n",
       "      <td>HC08BTC_visiumHD_square_016um</td>\n",
       "      <td>NaN</td>\n",
       "      <td>HC08BTC_visiumHD</td>\n",
       "      <td>HD</td>\n",
       "    </tr>\n",
       "    <tr>\n",
       "      <th>HC08BTC_visiumHD-s_016um_00144_00329-1-9</th>\n",
       "      <td>1.0</td>\n",
       "      <td>144.0</td>\n",
       "      <td>329.0</td>\n",
       "      <td>HC08BTC_visiumHD_square_016um</td>\n",
       "      <td>NaN</td>\n",
       "      <td>HC08BTC_visiumHD</td>\n",
       "      <td>HD</td>\n",
       "    </tr>\n",
       "  </tbody>\n",
       "</table>\n",
       "<p>1010315 rows × 7 columns</p>\n",
       "</div>"
      ],
      "text/plain": [
       "                                          in_tissue  array_row  array_col  \\\n",
       "BTC01_visium-AACACCTACTATCGAA-1-0               1.0        0.0      122.0   \n",
       "BTC01_visium-AACACGTGCATCGCAC-1-0               1.0       76.0       22.0   \n",
       "BTC01_visium-AACACTTGGCAAGGAA-1-0               1.0       47.0       71.0   \n",
       "BTC01_visium-AACAGGAAGAGCATAG-1-0               1.0       69.0        7.0   \n",
       "BTC01_visium-AACAGGATTCATAGTT-1-0               1.0       49.0       43.0   \n",
       "...                                             ...        ...        ...   \n",
       "HC08BTC_visiumHD-s_016um_00193_00227-1-9        1.0      193.0      227.0   \n",
       "HC08BTC_visiumHD-s_016um_00109_00223-1-9        1.0      109.0      223.0   \n",
       "HC08BTC_visiumHD-s_016um_00039_00175-1-9        1.0       39.0      175.0   \n",
       "HC08BTC_visiumHD-s_016um_00037_00193-1-9        1.0       37.0      193.0   \n",
       "HC08BTC_visiumHD-s_016um_00144_00329-1-9        1.0      144.0      329.0   \n",
       "\n",
       "                                                                 region  \\\n",
       "BTC01_visium-AACACCTACTATCGAA-1-0                          BTC01_visium   \n",
       "BTC01_visium-AACACGTGCATCGCAC-1-0                          BTC01_visium   \n",
       "BTC01_visium-AACACTTGGCAAGGAA-1-0                          BTC01_visium   \n",
       "BTC01_visium-AACAGGAAGAGCATAG-1-0                          BTC01_visium   \n",
       "BTC01_visium-AACAGGATTCATAGTT-1-0                          BTC01_visium   \n",
       "...                                                                 ...   \n",
       "HC08BTC_visiumHD-s_016um_00193_00227-1-9  HC08BTC_visiumHD_square_016um   \n",
       "HC08BTC_visiumHD-s_016um_00109_00223-1-9  HC08BTC_visiumHD_square_016um   \n",
       "HC08BTC_visiumHD-s_016um_00039_00175-1-9  HC08BTC_visiumHD_square_016um   \n",
       "HC08BTC_visiumHD-s_016um_00037_00193-1-9  HC08BTC_visiumHD_square_016um   \n",
       "HC08BTC_visiumHD-s_016um_00144_00329-1-9  HC08BTC_visiumHD_square_016um   \n",
       "\n",
       "                                            cell_type   BTC_sample_name  \\\n",
       "BTC01_visium-AACACCTACTATCGAA-1-0         FIBROBLASTS      BTC01_visium   \n",
       "BTC01_visium-AACACGTGCATCGCAC-1-0                PDAC      BTC01_visium   \n",
       "BTC01_visium-AACACTTGGCAAGGAA-1-0         FIBROBLASTS      BTC01_visium   \n",
       "BTC01_visium-AACAGGAAGAGCATAG-1-0         FIBROBLASTS      BTC01_visium   \n",
       "BTC01_visium-AACAGGATTCATAGTT-1-0         FIBROBLASTS      BTC01_visium   \n",
       "...                                               ...               ...   \n",
       "HC08BTC_visiumHD-s_016um_00193_00227-1-9          NaN  HC08BTC_visiumHD   \n",
       "HC08BTC_visiumHD-s_016um_00109_00223-1-9          NaN  HC08BTC_visiumHD   \n",
       "HC08BTC_visiumHD-s_016um_00039_00175-1-9          NaN  HC08BTC_visiumHD   \n",
       "HC08BTC_visiumHD-s_016um_00037_00193-1-9          NaN  HC08BTC_visiumHD   \n",
       "HC08BTC_visiumHD-s_016um_00144_00329-1-9          NaN  HC08BTC_visiumHD   \n",
       "\n",
       "                                         sample_type  \n",
       "BTC01_visium-AACACCTACTATCGAA-1-0           standard  \n",
       "BTC01_visium-AACACGTGCATCGCAC-1-0           standard  \n",
       "BTC01_visium-AACACTTGGCAAGGAA-1-0           standard  \n",
       "BTC01_visium-AACAGGAAGAGCATAG-1-0           standard  \n",
       "BTC01_visium-AACAGGATTCATAGTT-1-0           standard  \n",
       "...                                              ...  \n",
       "HC08BTC_visiumHD-s_016um_00193_00227-1-9          HD  \n",
       "HC08BTC_visiumHD-s_016um_00109_00223-1-9          HD  \n",
       "HC08BTC_visiumHD-s_016um_00039_00175-1-9          HD  \n",
       "HC08BTC_visiumHD-s_016um_00037_00193-1-9          HD  \n",
       "HC08BTC_visiumHD-s_016um_00144_00329-1-9          HD  \n",
       "\n",
       "[1010315 rows x 7 columns]"
      ]
     },
     "execution_count": 10,
     "metadata": {},
     "output_type": "execute_result"
    }
   ],
   "source": [
    "combined_adata.obs"
   ]
  },
  {
   "cell_type": "code",
   "execution_count": 11,
   "id": "f177baea",
   "metadata": {},
   "outputs": [
    {
     "data": {
      "text/plain": [
       "BTC_sample_name\n",
       "HC03BTC_visiumHD    175561\n",
       "HC07BTC_visiumHD    175561\n",
       "HC01BTC_visiumHD    169550\n",
       "HC05BTC_visiumHD    164263\n",
       "HC04BTC_visiumHD    163383\n",
       "HC08BTC_visiumHD    142989\n",
       "BTC03_visium          4992\n",
       "BTC09_visium          4992\n",
       "BTC13_visium          4601\n",
       "BTC01_visium          4423\n",
       "Name: count, dtype: int64"
      ]
     },
     "execution_count": 11,
     "metadata": {},
     "output_type": "execute_result"
    }
   ],
   "source": [
    "combined_adata.obs[\"BTC_sample_name\"].value_counts()"
   ]
  },
  {
   "cell_type": "code",
   "execution_count": 12,
   "id": "61f83979",
   "metadata": {},
   "outputs": [
    {
     "data": {
      "text/plain": [
       "cell_type\n",
       "FIBROBLASTS        330668\n",
       "PDAC               107504\n",
       "ACINAR              38239\n",
       "PERICYTES           26445\n",
       "MYELOID             25857\n",
       "ENDOTHELIAL         18075\n",
       "ENDOCRINE           12768\n",
       "TNK                  8529\n",
       "PLASMA               5061\n",
       "CYCLING MYELOID      4156\n",
       "B CELLS              2136\n",
       "MAST                  621\n",
       "CYCLING TNK           272\n",
       "Name: count, dtype: int64"
      ]
     },
     "execution_count": 12,
     "metadata": {},
     "output_type": "execute_result"
    }
   ],
   "source": [
    "combined_adata.obs[\"cell_type\"].value_counts()"
   ]
  },
  {
   "cell_type": "code",
   "execution_count": 13,
   "id": "5cc86a28",
   "metadata": {},
   "outputs": [],
   "source": [
    "# define cell types of interest\n",
    "ductal_cells = [\"PDAC\"]\n",
    "fibro_ductal_cells = [\"FIBROBLASTS\",\"PDAC\"]"
   ]
  },
  {
   "cell_type": "code",
   "execution_count": 14,
   "id": "905c2093",
   "metadata": {},
   "outputs": [],
   "source": [
    "# susbet combined object to cell types of interest\n",
    "ductal_adata = combined_adata[combined_adata.obs[\"cell_type\"].isin(ductal_cells)].copy()\n",
    "fibro_ductal_adata = combined_adata[combined_adata.obs[\"cell_type\"].isin(fibro_ductal_cells)].copy()"
   ]
  },
  {
   "cell_type": "code",
   "execution_count": 15,
   "id": "26852225",
   "metadata": {},
   "outputs": [
    {
     "data": {
      "text/plain": [
       "AnnData object with n_obs × n_vars = 107504 × 18082\n",
       "    obs: 'in_tissue', 'array_row', 'array_col', 'region', 'cell_type', 'BTC_sample_name', 'sample_type'\n",
       "    uns: 'layout', 'spatial', 'spatial_neighbors', 'spatialdata_attrs'\n",
       "    obsm: 'spatial'"
      ]
     },
     "execution_count": 15,
     "metadata": {},
     "output_type": "execute_result"
    }
   ],
   "source": [
    "ductal_adata"
   ]
  },
  {
   "cell_type": "code",
   "execution_count": 16,
   "id": "979b8333",
   "metadata": {},
   "outputs": [
    {
     "data": {
      "text/html": [
       "<div>\n",
       "<style scoped>\n",
       "    .dataframe tbody tr th:only-of-type {\n",
       "        vertical-align: middle;\n",
       "    }\n",
       "\n",
       "    .dataframe tbody tr th {\n",
       "        vertical-align: top;\n",
       "    }\n",
       "\n",
       "    .dataframe thead th {\n",
       "        text-align: right;\n",
       "    }\n",
       "</style>\n",
       "<table border=\"1\" class=\"dataframe\">\n",
       "  <thead>\n",
       "    <tr style=\"text-align: right;\">\n",
       "      <th></th>\n",
       "      <th>in_tissue</th>\n",
       "      <th>array_row</th>\n",
       "      <th>array_col</th>\n",
       "      <th>region</th>\n",
       "      <th>cell_type</th>\n",
       "      <th>BTC_sample_name</th>\n",
       "      <th>sample_type</th>\n",
       "    </tr>\n",
       "  </thead>\n",
       "  <tbody>\n",
       "    <tr>\n",
       "      <th>BTC01_visium-AACACGTGCATCGCAC-1-0</th>\n",
       "      <td>1.0</td>\n",
       "      <td>76.0</td>\n",
       "      <td>22.0</td>\n",
       "      <td>BTC01_visium</td>\n",
       "      <td>PDAC</td>\n",
       "      <td>BTC01_visium</td>\n",
       "      <td>standard</td>\n",
       "    </tr>\n",
       "    <tr>\n",
       "      <th>BTC01_visium-AACATACTCATATGCG-1-0</th>\n",
       "      <td>1.0</td>\n",
       "      <td>50.0</td>\n",
       "      <td>6.0</td>\n",
       "      <td>BTC01_visium</td>\n",
       "      <td>PDAC</td>\n",
       "      <td>BTC01_visium</td>\n",
       "      <td>standard</td>\n",
       "    </tr>\n",
       "    <tr>\n",
       "      <th>BTC01_visium-AACCAAGGTATCAGGC-1-0</th>\n",
       "      <td>1.0</td>\n",
       "      <td>38.0</td>\n",
       "      <td>104.0</td>\n",
       "      <td>BTC01_visium</td>\n",
       "      <td>PDAC</td>\n",
       "      <td>BTC01_visium</td>\n",
       "      <td>standard</td>\n",
       "    </tr>\n",
       "    <tr>\n",
       "      <th>BTC01_visium-AACCACTGCCATAGCC-1-0</th>\n",
       "      <td>1.0</td>\n",
       "      <td>29.0</td>\n",
       "      <td>49.0</td>\n",
       "      <td>BTC01_visium</td>\n",
       "      <td>PDAC</td>\n",
       "      <td>BTC01_visium</td>\n",
       "      <td>standard</td>\n",
       "    </tr>\n",
       "    <tr>\n",
       "      <th>BTC01_visium-AACCGCATGTATGTTA-1-0</th>\n",
       "      <td>1.0</td>\n",
       "      <td>19.0</td>\n",
       "      <td>119.0</td>\n",
       "      <td>BTC01_visium</td>\n",
       "      <td>PDAC</td>\n",
       "      <td>BTC01_visium</td>\n",
       "      <td>standard</td>\n",
       "    </tr>\n",
       "    <tr>\n",
       "      <th>...</th>\n",
       "      <td>...</td>\n",
       "      <td>...</td>\n",
       "      <td>...</td>\n",
       "      <td>...</td>\n",
       "      <td>...</td>\n",
       "      <td>...</td>\n",
       "      <td>...</td>\n",
       "    </tr>\n",
       "    <tr>\n",
       "      <th>HC08BTC_visiumHD-s_016um_00193_00258-1-9</th>\n",
       "      <td>1.0</td>\n",
       "      <td>193.0</td>\n",
       "      <td>258.0</td>\n",
       "      <td>HC08BTC_visiumHD_square_016um</td>\n",
       "      <td>PDAC</td>\n",
       "      <td>HC08BTC_visiumHD</td>\n",
       "      <td>HD</td>\n",
       "    </tr>\n",
       "    <tr>\n",
       "      <th>HC08BTC_visiumHD-s_016um_00247_00325-1-9</th>\n",
       "      <td>1.0</td>\n",
       "      <td>247.0</td>\n",
       "      <td>325.0</td>\n",
       "      <td>HC08BTC_visiumHD_square_016um</td>\n",
       "      <td>PDAC</td>\n",
       "      <td>HC08BTC_visiumHD</td>\n",
       "      <td>HD</td>\n",
       "    </tr>\n",
       "    <tr>\n",
       "      <th>HC08BTC_visiumHD-s_016um_00225_00261-1-9</th>\n",
       "      <td>1.0</td>\n",
       "      <td>225.0</td>\n",
       "      <td>261.0</td>\n",
       "      <td>HC08BTC_visiumHD_square_016um</td>\n",
       "      <td>PDAC</td>\n",
       "      <td>HC08BTC_visiumHD</td>\n",
       "      <td>HD</td>\n",
       "    </tr>\n",
       "    <tr>\n",
       "      <th>HC08BTC_visiumHD-s_016um_00220_00218-1-9</th>\n",
       "      <td>1.0</td>\n",
       "      <td>220.0</td>\n",
       "      <td>218.0</td>\n",
       "      <td>HC08BTC_visiumHD_square_016um</td>\n",
       "      <td>PDAC</td>\n",
       "      <td>HC08BTC_visiumHD</td>\n",
       "      <td>HD</td>\n",
       "    </tr>\n",
       "    <tr>\n",
       "      <th>HC08BTC_visiumHD-s_016um_00218_00216-1-9</th>\n",
       "      <td>1.0</td>\n",
       "      <td>218.0</td>\n",
       "      <td>216.0</td>\n",
       "      <td>HC08BTC_visiumHD_square_016um</td>\n",
       "      <td>PDAC</td>\n",
       "      <td>HC08BTC_visiumHD</td>\n",
       "      <td>HD</td>\n",
       "    </tr>\n",
       "  </tbody>\n",
       "</table>\n",
       "<p>107504 rows × 7 columns</p>\n",
       "</div>"
      ],
      "text/plain": [
       "                                          in_tissue  array_row  array_col  \\\n",
       "BTC01_visium-AACACGTGCATCGCAC-1-0               1.0       76.0       22.0   \n",
       "BTC01_visium-AACATACTCATATGCG-1-0               1.0       50.0        6.0   \n",
       "BTC01_visium-AACCAAGGTATCAGGC-1-0               1.0       38.0      104.0   \n",
       "BTC01_visium-AACCACTGCCATAGCC-1-0               1.0       29.0       49.0   \n",
       "BTC01_visium-AACCGCATGTATGTTA-1-0               1.0       19.0      119.0   \n",
       "...                                             ...        ...        ...   \n",
       "HC08BTC_visiumHD-s_016um_00193_00258-1-9        1.0      193.0      258.0   \n",
       "HC08BTC_visiumHD-s_016um_00247_00325-1-9        1.0      247.0      325.0   \n",
       "HC08BTC_visiumHD-s_016um_00225_00261-1-9        1.0      225.0      261.0   \n",
       "HC08BTC_visiumHD-s_016um_00220_00218-1-9        1.0      220.0      218.0   \n",
       "HC08BTC_visiumHD-s_016um_00218_00216-1-9        1.0      218.0      216.0   \n",
       "\n",
       "                                                                 region  \\\n",
       "BTC01_visium-AACACGTGCATCGCAC-1-0                          BTC01_visium   \n",
       "BTC01_visium-AACATACTCATATGCG-1-0                          BTC01_visium   \n",
       "BTC01_visium-AACCAAGGTATCAGGC-1-0                          BTC01_visium   \n",
       "BTC01_visium-AACCACTGCCATAGCC-1-0                          BTC01_visium   \n",
       "BTC01_visium-AACCGCATGTATGTTA-1-0                          BTC01_visium   \n",
       "...                                                                 ...   \n",
       "HC08BTC_visiumHD-s_016um_00193_00258-1-9  HC08BTC_visiumHD_square_016um   \n",
       "HC08BTC_visiumHD-s_016um_00247_00325-1-9  HC08BTC_visiumHD_square_016um   \n",
       "HC08BTC_visiumHD-s_016um_00225_00261-1-9  HC08BTC_visiumHD_square_016um   \n",
       "HC08BTC_visiumHD-s_016um_00220_00218-1-9  HC08BTC_visiumHD_square_016um   \n",
       "HC08BTC_visiumHD-s_016um_00218_00216-1-9  HC08BTC_visiumHD_square_016um   \n",
       "\n",
       "                                         cell_type   BTC_sample_name  \\\n",
       "BTC01_visium-AACACGTGCATCGCAC-1-0             PDAC      BTC01_visium   \n",
       "BTC01_visium-AACATACTCATATGCG-1-0             PDAC      BTC01_visium   \n",
       "BTC01_visium-AACCAAGGTATCAGGC-1-0             PDAC      BTC01_visium   \n",
       "BTC01_visium-AACCACTGCCATAGCC-1-0             PDAC      BTC01_visium   \n",
       "BTC01_visium-AACCGCATGTATGTTA-1-0             PDAC      BTC01_visium   \n",
       "...                                            ...               ...   \n",
       "HC08BTC_visiumHD-s_016um_00193_00258-1-9      PDAC  HC08BTC_visiumHD   \n",
       "HC08BTC_visiumHD-s_016um_00247_00325-1-9      PDAC  HC08BTC_visiumHD   \n",
       "HC08BTC_visiumHD-s_016um_00225_00261-1-9      PDAC  HC08BTC_visiumHD   \n",
       "HC08BTC_visiumHD-s_016um_00220_00218-1-9      PDAC  HC08BTC_visiumHD   \n",
       "HC08BTC_visiumHD-s_016um_00218_00216-1-9      PDAC  HC08BTC_visiumHD   \n",
       "\n",
       "                                         sample_type  \n",
       "BTC01_visium-AACACGTGCATCGCAC-1-0           standard  \n",
       "BTC01_visium-AACATACTCATATGCG-1-0           standard  \n",
       "BTC01_visium-AACCAAGGTATCAGGC-1-0           standard  \n",
       "BTC01_visium-AACCACTGCCATAGCC-1-0           standard  \n",
       "BTC01_visium-AACCGCATGTATGTTA-1-0           standard  \n",
       "...                                              ...  \n",
       "HC08BTC_visiumHD-s_016um_00193_00258-1-9          HD  \n",
       "HC08BTC_visiumHD-s_016um_00247_00325-1-9          HD  \n",
       "HC08BTC_visiumHD-s_016um_00225_00261-1-9          HD  \n",
       "HC08BTC_visiumHD-s_016um_00220_00218-1-9          HD  \n",
       "HC08BTC_visiumHD-s_016um_00218_00216-1-9          HD  \n",
       "\n",
       "[107504 rows x 7 columns]"
      ]
     },
     "execution_count": 16,
     "metadata": {},
     "output_type": "execute_result"
    }
   ],
   "source": [
    "ductal_adata.obs"
   ]
  },
  {
   "cell_type": "code",
   "execution_count": 17,
   "id": "d6efcc58",
   "metadata": {},
   "outputs": [
    {
     "data": {
      "text/plain": [
       "BTC_sample_name\n",
       "HC01BTC_visiumHD    45709\n",
       "HC03BTC_visiumHD    23372\n",
       "HC04BTC_visiumHD    18410\n",
       "HC05BTC_visiumHD    12073\n",
       "HC07BTC_visiumHD     3295\n",
       "BTC01_visium         1356\n",
       "BTC03_visium         1230\n",
       "BTC13_visium          735\n",
       "BTC09_visium          697\n",
       "HC08BTC_visiumHD      627\n",
       "Name: count, dtype: int64"
      ]
     },
     "execution_count": 17,
     "metadata": {},
     "output_type": "execute_result"
    }
   ],
   "source": [
    "ductal_adata.obs[\"BTC_sample_name\"].value_counts()"
   ]
  },
  {
   "cell_type": "code",
   "execution_count": 18,
   "id": "0409b0d0",
   "metadata": {},
   "outputs": [
    {
     "data": {
      "text/plain": [
       "cell_type\n",
       "PDAC    107504\n",
       "Name: count, dtype: int64"
      ]
     },
     "execution_count": 18,
     "metadata": {},
     "output_type": "execute_result"
    }
   ],
   "source": [
    "ductal_adata.obs[\"cell_type\"].value_counts()"
   ]
  },
  {
   "cell_type": "code",
   "execution_count": 19,
   "id": "15949e08",
   "metadata": {},
   "outputs": [
    {
     "data": {
      "text/plain": [
       "AnnData object with n_obs × n_vars = 438172 × 18082\n",
       "    obs: 'in_tissue', 'array_row', 'array_col', 'region', 'cell_type', 'BTC_sample_name', 'sample_type'\n",
       "    uns: 'layout', 'spatial', 'spatial_neighbors', 'spatialdata_attrs'\n",
       "    obsm: 'spatial'"
      ]
     },
     "execution_count": 19,
     "metadata": {},
     "output_type": "execute_result"
    }
   ],
   "source": [
    "fibro_ductal_adata"
   ]
  },
  {
   "cell_type": "code",
   "execution_count": 20,
   "id": "bbafe72f",
   "metadata": {},
   "outputs": [
    {
     "data": {
      "text/html": [
       "<div>\n",
       "<style scoped>\n",
       "    .dataframe tbody tr th:only-of-type {\n",
       "        vertical-align: middle;\n",
       "    }\n",
       "\n",
       "    .dataframe tbody tr th {\n",
       "        vertical-align: top;\n",
       "    }\n",
       "\n",
       "    .dataframe thead th {\n",
       "        text-align: right;\n",
       "    }\n",
       "</style>\n",
       "<table border=\"1\" class=\"dataframe\">\n",
       "  <thead>\n",
       "    <tr style=\"text-align: right;\">\n",
       "      <th></th>\n",
       "      <th>in_tissue</th>\n",
       "      <th>array_row</th>\n",
       "      <th>array_col</th>\n",
       "      <th>region</th>\n",
       "      <th>cell_type</th>\n",
       "      <th>BTC_sample_name</th>\n",
       "      <th>sample_type</th>\n",
       "    </tr>\n",
       "  </thead>\n",
       "  <tbody>\n",
       "    <tr>\n",
       "      <th>BTC01_visium-AACACCTACTATCGAA-1-0</th>\n",
       "      <td>1.0</td>\n",
       "      <td>0.0</td>\n",
       "      <td>122.0</td>\n",
       "      <td>BTC01_visium</td>\n",
       "      <td>FIBROBLASTS</td>\n",
       "      <td>BTC01_visium</td>\n",
       "      <td>standard</td>\n",
       "    </tr>\n",
       "    <tr>\n",
       "      <th>BTC01_visium-AACACGTGCATCGCAC-1-0</th>\n",
       "      <td>1.0</td>\n",
       "      <td>76.0</td>\n",
       "      <td>22.0</td>\n",
       "      <td>BTC01_visium</td>\n",
       "      <td>PDAC</td>\n",
       "      <td>BTC01_visium</td>\n",
       "      <td>standard</td>\n",
       "    </tr>\n",
       "    <tr>\n",
       "      <th>BTC01_visium-AACACTTGGCAAGGAA-1-0</th>\n",
       "      <td>1.0</td>\n",
       "      <td>47.0</td>\n",
       "      <td>71.0</td>\n",
       "      <td>BTC01_visium</td>\n",
       "      <td>FIBROBLASTS</td>\n",
       "      <td>BTC01_visium</td>\n",
       "      <td>standard</td>\n",
       "    </tr>\n",
       "    <tr>\n",
       "      <th>BTC01_visium-AACAGGAAGAGCATAG-1-0</th>\n",
       "      <td>1.0</td>\n",
       "      <td>69.0</td>\n",
       "      <td>7.0</td>\n",
       "      <td>BTC01_visium</td>\n",
       "      <td>FIBROBLASTS</td>\n",
       "      <td>BTC01_visium</td>\n",
       "      <td>standard</td>\n",
       "    </tr>\n",
       "    <tr>\n",
       "      <th>BTC01_visium-AACAGGATTCATAGTT-1-0</th>\n",
       "      <td>1.0</td>\n",
       "      <td>49.0</td>\n",
       "      <td>43.0</td>\n",
       "      <td>BTC01_visium</td>\n",
       "      <td>FIBROBLASTS</td>\n",
       "      <td>BTC01_visium</td>\n",
       "      <td>standard</td>\n",
       "    </tr>\n",
       "    <tr>\n",
       "      <th>...</th>\n",
       "      <td>...</td>\n",
       "      <td>...</td>\n",
       "      <td>...</td>\n",
       "      <td>...</td>\n",
       "      <td>...</td>\n",
       "      <td>...</td>\n",
       "      <td>...</td>\n",
       "    </tr>\n",
       "    <tr>\n",
       "      <th>HC08BTC_visiumHD-s_016um_00217_00238-1-9</th>\n",
       "      <td>1.0</td>\n",
       "      <td>217.0</td>\n",
       "      <td>238.0</td>\n",
       "      <td>HC08BTC_visiumHD_square_016um</td>\n",
       "      <td>FIBROBLASTS</td>\n",
       "      <td>HC08BTC_visiumHD</td>\n",
       "      <td>HD</td>\n",
       "    </tr>\n",
       "    <tr>\n",
       "      <th>HC08BTC_visiumHD-s_016um_00122_00358-1-9</th>\n",
       "      <td>1.0</td>\n",
       "      <td>122.0</td>\n",
       "      <td>358.0</td>\n",
       "      <td>HC08BTC_visiumHD_square_016um</td>\n",
       "      <td>FIBROBLASTS</td>\n",
       "      <td>HC08BTC_visiumHD</td>\n",
       "      <td>HD</td>\n",
       "    </tr>\n",
       "    <tr>\n",
       "      <th>HC08BTC_visiumHD-s_016um_00197_00110-1-9</th>\n",
       "      <td>1.0</td>\n",
       "      <td>197.0</td>\n",
       "      <td>110.0</td>\n",
       "      <td>HC08BTC_visiumHD_square_016um</td>\n",
       "      <td>FIBROBLASTS</td>\n",
       "      <td>HC08BTC_visiumHD</td>\n",
       "      <td>HD</td>\n",
       "    </tr>\n",
       "    <tr>\n",
       "      <th>HC08BTC_visiumHD-s_016um_00224_00113-1-9</th>\n",
       "      <td>1.0</td>\n",
       "      <td>224.0</td>\n",
       "      <td>113.0</td>\n",
       "      <td>HC08BTC_visiumHD_square_016um</td>\n",
       "      <td>FIBROBLASTS</td>\n",
       "      <td>HC08BTC_visiumHD</td>\n",
       "      <td>HD</td>\n",
       "    </tr>\n",
       "    <tr>\n",
       "      <th>HC08BTC_visiumHD-s_016um_00212_00331-1-9</th>\n",
       "      <td>1.0</td>\n",
       "      <td>212.0</td>\n",
       "      <td>331.0</td>\n",
       "      <td>HC08BTC_visiumHD_square_016um</td>\n",
       "      <td>FIBROBLASTS</td>\n",
       "      <td>HC08BTC_visiumHD</td>\n",
       "      <td>HD</td>\n",
       "    </tr>\n",
       "  </tbody>\n",
       "</table>\n",
       "<p>438172 rows × 7 columns</p>\n",
       "</div>"
      ],
      "text/plain": [
       "                                          in_tissue  array_row  array_col  \\\n",
       "BTC01_visium-AACACCTACTATCGAA-1-0               1.0        0.0      122.0   \n",
       "BTC01_visium-AACACGTGCATCGCAC-1-0               1.0       76.0       22.0   \n",
       "BTC01_visium-AACACTTGGCAAGGAA-1-0               1.0       47.0       71.0   \n",
       "BTC01_visium-AACAGGAAGAGCATAG-1-0               1.0       69.0        7.0   \n",
       "BTC01_visium-AACAGGATTCATAGTT-1-0               1.0       49.0       43.0   \n",
       "...                                             ...        ...        ...   \n",
       "HC08BTC_visiumHD-s_016um_00217_00238-1-9        1.0      217.0      238.0   \n",
       "HC08BTC_visiumHD-s_016um_00122_00358-1-9        1.0      122.0      358.0   \n",
       "HC08BTC_visiumHD-s_016um_00197_00110-1-9        1.0      197.0      110.0   \n",
       "HC08BTC_visiumHD-s_016um_00224_00113-1-9        1.0      224.0      113.0   \n",
       "HC08BTC_visiumHD-s_016um_00212_00331-1-9        1.0      212.0      331.0   \n",
       "\n",
       "                                                                 region  \\\n",
       "BTC01_visium-AACACCTACTATCGAA-1-0                          BTC01_visium   \n",
       "BTC01_visium-AACACGTGCATCGCAC-1-0                          BTC01_visium   \n",
       "BTC01_visium-AACACTTGGCAAGGAA-1-0                          BTC01_visium   \n",
       "BTC01_visium-AACAGGAAGAGCATAG-1-0                          BTC01_visium   \n",
       "BTC01_visium-AACAGGATTCATAGTT-1-0                          BTC01_visium   \n",
       "...                                                                 ...   \n",
       "HC08BTC_visiumHD-s_016um_00217_00238-1-9  HC08BTC_visiumHD_square_016um   \n",
       "HC08BTC_visiumHD-s_016um_00122_00358-1-9  HC08BTC_visiumHD_square_016um   \n",
       "HC08BTC_visiumHD-s_016um_00197_00110-1-9  HC08BTC_visiumHD_square_016um   \n",
       "HC08BTC_visiumHD-s_016um_00224_00113-1-9  HC08BTC_visiumHD_square_016um   \n",
       "HC08BTC_visiumHD-s_016um_00212_00331-1-9  HC08BTC_visiumHD_square_016um   \n",
       "\n",
       "                                            cell_type   BTC_sample_name  \\\n",
       "BTC01_visium-AACACCTACTATCGAA-1-0         FIBROBLASTS      BTC01_visium   \n",
       "BTC01_visium-AACACGTGCATCGCAC-1-0                PDAC      BTC01_visium   \n",
       "BTC01_visium-AACACTTGGCAAGGAA-1-0         FIBROBLASTS      BTC01_visium   \n",
       "BTC01_visium-AACAGGAAGAGCATAG-1-0         FIBROBLASTS      BTC01_visium   \n",
       "BTC01_visium-AACAGGATTCATAGTT-1-0         FIBROBLASTS      BTC01_visium   \n",
       "...                                               ...               ...   \n",
       "HC08BTC_visiumHD-s_016um_00217_00238-1-9  FIBROBLASTS  HC08BTC_visiumHD   \n",
       "HC08BTC_visiumHD-s_016um_00122_00358-1-9  FIBROBLASTS  HC08BTC_visiumHD   \n",
       "HC08BTC_visiumHD-s_016um_00197_00110-1-9  FIBROBLASTS  HC08BTC_visiumHD   \n",
       "HC08BTC_visiumHD-s_016um_00224_00113-1-9  FIBROBLASTS  HC08BTC_visiumHD   \n",
       "HC08BTC_visiumHD-s_016um_00212_00331-1-9  FIBROBLASTS  HC08BTC_visiumHD   \n",
       "\n",
       "                                         sample_type  \n",
       "BTC01_visium-AACACCTACTATCGAA-1-0           standard  \n",
       "BTC01_visium-AACACGTGCATCGCAC-1-0           standard  \n",
       "BTC01_visium-AACACTTGGCAAGGAA-1-0           standard  \n",
       "BTC01_visium-AACAGGAAGAGCATAG-1-0           standard  \n",
       "BTC01_visium-AACAGGATTCATAGTT-1-0           standard  \n",
       "...                                              ...  \n",
       "HC08BTC_visiumHD-s_016um_00217_00238-1-9          HD  \n",
       "HC08BTC_visiumHD-s_016um_00122_00358-1-9          HD  \n",
       "HC08BTC_visiumHD-s_016um_00197_00110-1-9          HD  \n",
       "HC08BTC_visiumHD-s_016um_00224_00113-1-9          HD  \n",
       "HC08BTC_visiumHD-s_016um_00212_00331-1-9          HD  \n",
       "\n",
       "[438172 rows x 7 columns]"
      ]
     },
     "execution_count": 20,
     "metadata": {},
     "output_type": "execute_result"
    }
   ],
   "source": [
    "fibro_ductal_adata.obs"
   ]
  },
  {
   "cell_type": "code",
   "execution_count": 21,
   "id": "65262a49",
   "metadata": {},
   "outputs": [
    {
     "data": {
      "text/plain": [
       "BTC_sample_name\n",
       "HC03BTC_visiumHD    130643\n",
       "HC01BTC_visiumHD    115094\n",
       "HC04BTC_visiumHD     88478\n",
       "HC07BTC_visiumHD     41768\n",
       "HC05BTC_visiumHD     23314\n",
       "HC08BTC_visiumHD     21152\n",
       "BTC03_visium          4785\n",
       "BTC09_visium          4741\n",
       "BTC13_visium          4235\n",
       "BTC01_visium          3962\n",
       "Name: count, dtype: int64"
      ]
     },
     "execution_count": 21,
     "metadata": {},
     "output_type": "execute_result"
    }
   ],
   "source": [
    "fibro_ductal_adata.obs[\"BTC_sample_name\"].value_counts()"
   ]
  },
  {
   "cell_type": "code",
   "execution_count": 22,
   "id": "54d6791f",
   "metadata": {},
   "outputs": [
    {
     "data": {
      "text/plain": [
       "cell_type\n",
       "FIBROBLASTS    330668\n",
       "PDAC           107504\n",
       "Name: count, dtype: int64"
      ]
     },
     "execution_count": 22,
     "metadata": {},
     "output_type": "execute_result"
    }
   ],
   "source": [
    "fibro_ductal_adata.obs[\"cell_type\"].value_counts()"
   ]
  },
  {
   "cell_type": "code",
   "execution_count": 23,
   "id": "94cb526a",
   "metadata": {},
   "outputs": [
    {
     "name": "stdout",
     "output_type": "stream",
     "text": [
      "Name: BTC-DPT-Development\n",
      "ID: 5678660b-483c-470c-a0b1-2476fb01fa56\n"
     ]
    }
   ],
   "source": [
    "project = portal.get_project_by_name(\"BTC-DPT-Development\")\n",
    "print(f\"Name: {project.name}\")\n",
    "print(f\"ID: {project.id}\")"
   ]
  },
  {
   "cell_type": "code",
   "execution_count": 26,
   "id": "81d84c20",
   "metadata": {},
   "outputs": [],
   "source": [
    "# Select the process used to ingest paired DNA sequencing data\n",
    "process = portal.get_process_by_id(\"single-cell-h5\", ingest=True)"
   ]
  },
  {
   "cell_type": "code",
   "execution_count": 24,
   "id": "6d1a0d91",
   "metadata": {},
   "outputs": [],
   "source": [
    "ductal_adata.write_h5ad('BTC_ductal_cells_rctd.h5ad', compression='gzip')\n",
    "fibro_ductal_adata.write_h5ad('BTC_fibro_ductal_cells_rctd.h5ad', compression='gzip')"
   ]
  },
  {
   "cell_type": "code",
   "execution_count": null,
   "id": "33078ee4",
   "metadata": {},
   "outputs": [
    {
     "name": "stderr",
     "output_type": "stream",
     "text": [
      "Uploading file BTC_ductal_cells_rctd.h5ad (208.69 MB) | 100.0%|█████████████████████████ | 12.5MB/s\n"
     ]
    },
    {
     "name": "stdout",
     "output_type": "stream",
     "text": [
      "Name: Combined Samples PDAC\n",
      "Id: d65b19c0-4dc2-4a39-a856-e890443a5e74\n",
      "Description: Ductal Cells and Fibro+Ductal Cells from RCTD Deconvolution of Visium Samples\n",
      "Status: PENDING\n"
     ]
    }
   ],
   "source": [
    "# Upload the data and return the new dataset object\n",
    "uploaded_pdac = project.upload_dataset(\n",
    "    name = 'Combined Samples PDAC',\n",
    "    description = 'PDAC Cells from RCTD Deconvolution of Visium Samples',\n",
    "    upload_folder='./',\n",
    "    files = ['BTC_ductal_cells_rctd.h5ad'],\n",
    "    process = process\n",
    ")\n",
    "\n",
    "print(str(uploaded_pdac))"
   ]
  },
  {
   "cell_type": "code",
   "execution_count": null,
   "id": "0743835e",
   "metadata": {},
   "outputs": [],
   "source": [
    "uploaded_fibro_pdac = project.upload_dataset(\n",
    "    name = 'Combined Samples FIBROBLASTS and PDAC',\n",
    "    description = 'FIBROBLAST and PDAC Cells from RCTD Deconvolution of Visium Samples',\n",
    "    upload_folder='./',\n",
    "    files = ['BTC_fibro_ductal_cells_rctd.h5ad'],\n",
    "    process = process\n",
    ")\n",
    "\n",
    "print(str(uploaded_fibro_pdac))"
   ]
  }
 ],
 "metadata": {
  "kernelspec": {
   "display_name": "scverse",
   "language": "python",
   "name": "python3"
  },
  "language_info": {
   "codemirror_mode": {
    "name": "ipython",
    "version": 3
   },
   "file_extension": ".py",
   "mimetype": "text/x-python",
   "name": "python",
   "nbconvert_exporter": "python",
   "pygments_lexer": "ipython3",
   "version": "3.11.11"
  }
 },
 "nbformat": 4,
 "nbformat_minor": 5
}
