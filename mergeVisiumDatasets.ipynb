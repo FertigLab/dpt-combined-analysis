{
 "cells": [
  {
   "cell_type": "markdown",
   "id": "c315c62b",
   "metadata": {},
   "source": [
    "### Merge BTC DPT Visium Cohorts"
   ]
  },
  {
   "cell_type": "code",
   "execution_count": 1,
   "id": "1fbfa511",
   "metadata": {},
   "outputs": [
    {
     "name": "stderr",
     "output_type": "stream",
     "text": [
      "/Users/meredithwetzel/anaconda3/envs/scirpy2/lib/python3.11/site-packages/dask/dataframe/__init__.py:31: FutureWarning: The legacy Dask DataFrame implementation is deprecated and will be removed in a future version. Set the configuration option `dataframe.query-planning` to `True` or None to enable the new Dask Dataframe implementation and silence this warning.\n",
      "  warnings.warn(\n"
     ]
    },
    {
     "name": "stdout",
     "output_type": "stream",
     "text": [
      "To sign in, use a web browser to open the page https://breakthroughcancer.cirro.bio/authorize?user_code=DG455JVT\n",
      "scanpy==1.9.7 anndata==0.10.6 umap==0.5.6 numpy==1.26.4 scipy==1.13.0 pandas==2.2.1 scikit-learn==1.4.1.post1 statsmodels==0.14.1 igraph==0.11.4 pynndescent==0.5.12\n",
      "squidpy==1.6.5\n"
     ]
    }
   ],
   "source": [
    "import tarfile\n",
    "import warnings\n",
    "from glob import glob\n",
    "import os\n",
    "import anndata as ad\n",
    "import pandas as pd\n",
    "import scanpy as sc\n",
    "import squidpy as sq\n",
    "import re\n",
    "from cirro import DataPortal\n",
    "\n",
    "# set up cirro data portal access\n",
    "portal = DataPortal()\n",
    "\n",
    "sc.set_figure_params(figsize=(4, 4))\n",
    "sc.settings.verbosity = 2  # verbosity: errors (0), warnings (1), info (2), hints (3)\n",
    "sc.logging.print_header()\n",
    "print(f\"squidpy=={sq.__version__}\")"
   ]
  },
  {
   "cell_type": "code",
   "execution_count": null,
   "id": "42d498ed",
   "metadata": {},
   "outputs": [],
   "source": [
    "# adapt cirro code into function to pull in h5ad files\n",
    "def get_cirro_h5ad_files(project_name, dataset_name):\n",
    "    # access the cirro project\n",
    "    project = portal.get_project_by_name(project_name)\n",
    "    all_datasets = project.list_datasets()\n",
    "    #print(f\"The project {project.name} contains {len(all_datasets):,} datasets\")\n",
    "    # access the dataset of interest within the cirro project\n",
    "    dataset = all_datasets.get_by_name(dataset_name)\n",
    "    # get the complete list of files in that dataset\n",
    "    files = dataset.list_files()\n",
    "    #print(f\"Dataset {dataset.name} contains {len(files):,} files\")\n",
    "    # parse out the rctd.h5ad files\n",
    "    rctds = files.filter_by_pattern(\"*/rctd.h5ad\")\n",
    "    print(f\"Selected the file: {rctds.description()}\")\n",
    "    return rctds # cirro data portal object with all rctd.h5ad files"
   ]
  },
  {
   "cell_type": "code",
   "execution_count": 3,
   "id": "886a6ef2",
   "metadata": {},
   "outputs": [
    {
     "name": "stdout",
     "output_type": "stream",
     "text": [
      "Selected the file: data/rctd/BTC01_visium/rctd.h5ad (173.35 MB)\n",
      "\n",
      "---\n",
      "\n",
      "data/rctd/BTC03_visium/rctd.h5ad (193.22 MB)\n",
      "\n",
      "---\n",
      "\n",
      "data/rctd/BTC09_visium/rctd.h5ad (241.61 MB)\n",
      "\n",
      "---\n",
      "\n",
      "data/rctd/BTC13_visium/rctd.h5ad (274.06 MB)\n",
      "Selected the file: data/rctd/HC01BTC_visiumHD/rctd.h5ad (380.89 MB)\n",
      "\n",
      "---\n",
      "\n",
      "data/rctd/HC02BTC_visiumHD/rctd.h5ad (66.38 MB)\n",
      "\n",
      "---\n",
      "\n",
      "data/rctd/HC03BTC_visiumHD/rctd.h5ad (136.53 MB)\n",
      "\n",
      "---\n",
      "\n",
      "data/rctd/HC04BTC_visiumHD/rctd.h5ad (267.20 MB)\n",
      "\n",
      "---\n",
      "\n",
      "data/rctd/HC05BTC_visiumHD/rctd.h5ad (156.17 MB)\n",
      "\n",
      "---\n",
      "\n",
      "data/rctd/HC07BTC_visiumHD/rctd.h5ad (267.56 MB)\n",
      "\n",
      "---\n",
      "\n",
      "data/rctd/HC08BTC_visiumHD/rctd.h5ad (131.96 MB)\n"
     ]
    }
   ],
   "source": [
    "visST = get_cirro_h5ad_files('BTC-DPT-Development', 'Standard Visium - 15000 genes')\n",
    "visHD = get_cirro_h5ad_files('BTC-DPT-Development', 'Test Visium HD - 15000 genes')"
   ]
  },
  {
   "cell_type": "code",
   "execution_count": null,
   "id": "9f1543c7",
   "metadata": {},
   "outputs": [],
   "source": [
    "def load_cirro_h5ad_files(file_list):\n",
    "    # file list is a cirro dataset object (output of get_cirro_h5ad_files)\n",
    "    sample_dict = {}\n",
    "    for dataset in file_list:\n",
    "        #dataset_name = dataset.name # whole path\n",
    "        name = dataset.name.split(\"/\")[-2] # just dataset name\n",
    "        print(f\"Loading dataset: {name}\")\n",
    "        adata = dataset.read_h5ad()\n",
    "        sample_dict[name] = adata\n",
    "    return sample_dict"
   ]
  },
  {
   "cell_type": "code",
   "execution_count": 5,
   "id": "dc760f53",
   "metadata": {},
   "outputs": [
    {
     "name": "stdout",
     "output_type": "stream",
     "text": [
      "Loading dataset: BTC01_visium\n",
      "Loading dataset: BTC03_visium\n",
      "Loading dataset: BTC09_visium\n",
      "Loading dataset: BTC13_visium\n",
      "Loading dataset: HC01BTC_visiumHD\n",
      "Loading dataset: HC02BTC_visiumHD\n",
      "Loading dataset: HC03BTC_visiumHD\n",
      "Loading dataset: HC04BTC_visiumHD\n",
      "Loading dataset: HC05BTC_visiumHD\n",
      "Loading dataset: HC07BTC_visiumHD\n",
      "Loading dataset: HC08BTC_visiumHD\n",
      "Standard samples: ['BTC01_visium', 'BTC03_visium', 'BTC09_visium', 'BTC13_visium']\n",
      "HD samples: ['HC01BTC_visiumHD', 'HC02BTC_visiumHD', 'HC03BTC_visiumHD', 'HC04BTC_visiumHD', 'HC05BTC_visiumHD', 'HC07BTC_visiumHD', 'HC08BTC_visiumHD']\n"
     ]
    }
   ],
   "source": [
    "rctd_samples = load_cirro_h5ad_files(visST)\n",
    "rctd_hd_samples = load_cirro_h5ad_files(visHD)\n",
    "print(\"Standard samples:\", list(rctd_samples.keys()))\n",
    "print(\"HD samples:\", list(rctd_hd_samples.keys()))"
   ]
  },
  {
   "cell_type": "code",
   "execution_count": 6,
   "id": "5af3a1b0",
   "metadata": {},
   "outputs": [
    {
     "name": "stdout",
     "output_type": "stream",
     "text": [
      "BTC01_visium\n",
      "BTC03_visium\n",
      "BTC09_visium\n",
      "BTC13_visium\n",
      "HC01BTC_visiumHD\n",
      "HC02BTC_visiumHD\n",
      "HC03BTC_visiumHD\n",
      "HC04BTC_visiumHD\n",
      "HC05BTC_visiumHD\n",
      "HC07BTC_visiumHD\n",
      "HC08BTC_visiumHD\n"
     ]
    }
   ],
   "source": [
    "# add metadata to each object for merging (sample name and type)\n",
    "for name, adata in rctd_samples.items():\n",
    "    print(name)\n",
    "    adata.obs[\"sample_name\"] = name\n",
    "    adata.obs[\"sample_type\"] = \"standard\"\n",
    "\n",
    "for name, adata in rctd_hd_samples.items():\n",
    "    print(name)\n",
    "    adata.obs[\"sample_name\"] = name\n",
    "    adata.obs[\"sample_type\"] = \"HD\"\n",
    "\n",
    "# merge all objects into one\n",
    "all_adatas = list(rctd_samples.values()) + list(rctd_hd_samples.values()) # list all objects together\n",
    "# combined_adata = ad.concat(all_adatas,uns_merge=\"unique\",index_unique=\"-\")\n",
    "#keys = [adata.obs[\"sample_name\"][0] for adata in all_adatas]  # assuming obs is not empty\n",
    "\n",
    "combined_adata = sc.concat(\n",
    "    all_adatas,\n",
    "    index_unique=\"-\",\n",
    "    uns_merge=\"unique\"  # keeps each spatial entry under its own key\n",
    ")"
   ]
  },
  {
   "cell_type": "code",
   "execution_count": 7,
   "id": "a1ffcb0c",
   "metadata": {},
   "outputs": [
    {
     "data": {
      "text/plain": [
       "AnnData object with n_obs × n_vars = 1161405 × 18082\n",
       "    obs: 'in_tissue', 'cell_type', 'sample_name', 'sample_type'\n",
       "    uns: 'layout', 'spatial', 'spatialdata_attrs'\n",
       "    obsm: 'spatial'"
      ]
     },
     "execution_count": 7,
     "metadata": {},
     "output_type": "execute_result"
    }
   ],
   "source": [
    "combined_adata"
   ]
  },
  {
   "cell_type": "code",
   "execution_count": 8,
   "id": "c73a0b91",
   "metadata": {},
   "outputs": [
    {
     "data": {
      "text/html": [
       "<div>\n",
       "<style scoped>\n",
       "    .dataframe tbody tr th:only-of-type {\n",
       "        vertical-align: middle;\n",
       "    }\n",
       "\n",
       "    .dataframe tbody tr th {\n",
       "        vertical-align: top;\n",
       "    }\n",
       "\n",
       "    .dataframe thead th {\n",
       "        text-align: right;\n",
       "    }\n",
       "</style>\n",
       "<table border=\"1\" class=\"dataframe\">\n",
       "  <thead>\n",
       "    <tr style=\"text-align: right;\">\n",
       "      <th></th>\n",
       "      <th>in_tissue</th>\n",
       "      <th>cell_type</th>\n",
       "      <th>sample_name</th>\n",
       "      <th>sample_type</th>\n",
       "    </tr>\n",
       "  </thead>\n",
       "  <tbody>\n",
       "    <tr>\n",
       "      <th>AACACCTACTATCGAA-1-0</th>\n",
       "      <td>1</td>\n",
       "      <td>FIBROBLASTS</td>\n",
       "      <td>BTC01_visium</td>\n",
       "      <td>standard</td>\n",
       "    </tr>\n",
       "    <tr>\n",
       "      <th>AACACGTGCATCGCAC-1-0</th>\n",
       "      <td>1</td>\n",
       "      <td>FIBROBLASTS</td>\n",
       "      <td>BTC01_visium</td>\n",
       "      <td>standard</td>\n",
       "    </tr>\n",
       "    <tr>\n",
       "      <th>AACACTTGGCAAGGAA-1-0</th>\n",
       "      <td>1</td>\n",
       "      <td>FIBROBLASTS</td>\n",
       "      <td>BTC01_visium</td>\n",
       "      <td>standard</td>\n",
       "    </tr>\n",
       "    <tr>\n",
       "      <th>AACAGGAAGAGCATAG-1-0</th>\n",
       "      <td>1</td>\n",
       "      <td>FIBROBLASTS</td>\n",
       "      <td>BTC01_visium</td>\n",
       "      <td>standard</td>\n",
       "    </tr>\n",
       "    <tr>\n",
       "      <th>AACAGGATTCATAGTT-1-0</th>\n",
       "      <td>1</td>\n",
       "      <td>FIBROBLASTS</td>\n",
       "      <td>BTC01_visium</td>\n",
       "      <td>standard</td>\n",
       "    </tr>\n",
       "    <tr>\n",
       "      <th>...</th>\n",
       "      <td>...</td>\n",
       "      <td>...</td>\n",
       "      <td>...</td>\n",
       "      <td>...</td>\n",
       "    </tr>\n",
       "    <tr>\n",
       "      <th>s_016um_00193_00227-1-10</th>\n",
       "      <td>1</td>\n",
       "      <td>NaN</td>\n",
       "      <td>HC08BTC_visiumHD</td>\n",
       "      <td>HD</td>\n",
       "    </tr>\n",
       "    <tr>\n",
       "      <th>s_016um_00109_00223-1-10</th>\n",
       "      <td>1</td>\n",
       "      <td>NaN</td>\n",
       "      <td>HC08BTC_visiumHD</td>\n",
       "      <td>HD</td>\n",
       "    </tr>\n",
       "    <tr>\n",
       "      <th>s_016um_00039_00175-1-10</th>\n",
       "      <td>1</td>\n",
       "      <td>NaN</td>\n",
       "      <td>HC08BTC_visiumHD</td>\n",
       "      <td>HD</td>\n",
       "    </tr>\n",
       "    <tr>\n",
       "      <th>s_016um_00037_00193-1-10</th>\n",
       "      <td>1</td>\n",
       "      <td>NaN</td>\n",
       "      <td>HC08BTC_visiumHD</td>\n",
       "      <td>HD</td>\n",
       "    </tr>\n",
       "    <tr>\n",
       "      <th>s_016um_00144_00329-1-10</th>\n",
       "      <td>1</td>\n",
       "      <td>NaN</td>\n",
       "      <td>HC08BTC_visiumHD</td>\n",
       "      <td>HD</td>\n",
       "    </tr>\n",
       "  </tbody>\n",
       "</table>\n",
       "<p>1161405 rows × 4 columns</p>\n",
       "</div>"
      ],
      "text/plain": [
       "                          in_tissue    cell_type       sample_name sample_type\n",
       "AACACCTACTATCGAA-1-0              1  FIBROBLASTS      BTC01_visium    standard\n",
       "AACACGTGCATCGCAC-1-0              1  FIBROBLASTS      BTC01_visium    standard\n",
       "AACACTTGGCAAGGAA-1-0              1  FIBROBLASTS      BTC01_visium    standard\n",
       "AACAGGAAGAGCATAG-1-0              1  FIBROBLASTS      BTC01_visium    standard\n",
       "AACAGGATTCATAGTT-1-0              1  FIBROBLASTS      BTC01_visium    standard\n",
       "...                             ...          ...               ...         ...\n",
       "s_016um_00193_00227-1-10          1          NaN  HC08BTC_visiumHD          HD\n",
       "s_016um_00109_00223-1-10          1          NaN  HC08BTC_visiumHD          HD\n",
       "s_016um_00039_00175-1-10          1          NaN  HC08BTC_visiumHD          HD\n",
       "s_016um_00037_00193-1-10          1          NaN  HC08BTC_visiumHD          HD\n",
       "s_016um_00144_00329-1-10          1          NaN  HC08BTC_visiumHD          HD\n",
       "\n",
       "[1161405 rows x 4 columns]"
      ]
     },
     "execution_count": 8,
     "metadata": {},
     "output_type": "execute_result"
    }
   ],
   "source": [
    "combined_adata.obs"
   ]
  },
  {
   "cell_type": "code",
   "execution_count": 9,
   "id": "f177baea",
   "metadata": {},
   "outputs": [
    {
     "data": {
      "text/plain": [
       "sample_name\n",
       "HC02BTC_visiumHD    174601\n",
       "HC01BTC_visiumHD    169550\n",
       "HC07BTC_visiumHD    168236\n",
       "HC05BTC_visiumHD    164263\n",
       "HC04BTC_visiumHD    163383\n",
       "HC03BTC_visiumHD    158415\n",
       "HC08BTC_visiumHD    142989\n",
       "BTC01_visium          4992\n",
       "BTC03_visium          4992\n",
       "BTC09_visium          4992\n",
       "BTC13_visium          4992\n",
       "Name: count, dtype: int64"
      ]
     },
     "execution_count": 9,
     "metadata": {},
     "output_type": "execute_result"
    }
   ],
   "source": [
    "combined_adata.obs[\"sample_name\"].value_counts()"
   ]
  },
  {
   "cell_type": "code",
   "execution_count": 10,
   "id": "61f83979",
   "metadata": {},
   "outputs": [
    {
     "data": {
      "text/plain": [
       "cell_type\n",
       "FIBROBLASTS         334251\n",
       "DUCTAL               61136\n",
       "ACINAR               42261\n",
       "CYCLING DUCTAL       39938\n",
       "MYELOID              26009\n",
       "PERICYTES            25638\n",
       "ENDOTHELIAL          13668\n",
       "ENDOCRINE            13090\n",
       "TNK                   8269\n",
       "PLASMA                5540\n",
       "CYCLING. MYELOID      2857\n",
       "B CELLS               2137\n",
       "MAST                   509\n",
       "CYCLING TNK            266\n",
       "Name: count, dtype: int64"
      ]
     },
     "execution_count": 10,
     "metadata": {},
     "output_type": "execute_result"
    }
   ],
   "source": [
    "combined_adata.obs[\"cell_type\"].value_counts()"
   ]
  },
  {
   "cell_type": "code",
   "execution_count": 11,
   "id": "5cc86a28",
   "metadata": {},
   "outputs": [],
   "source": [
    "# define cell types of interest\n",
    "ductal_cells = [\"DUCTAL\",\"CYCLING DUCTAL\"]\n",
    "fibro_ductal_cells = [\"FIBROBLASTS\",\"DUCTAL\",\"CYCLING DUCTAL\"]"
   ]
  },
  {
   "cell_type": "code",
   "execution_count": 12,
   "id": "905c2093",
   "metadata": {},
   "outputs": [],
   "source": [
    "# susbet combined object to cell types of interest\n",
    "ductal_adata = combined_adata[combined_adata.obs[\"cell_type\"].isin(ductal_cells)].copy()\n",
    "fibro_ductal_adata = combined_adata[combined_adata.obs[\"cell_type\"].isin(fibro_ductal_cells)].copy()"
   ]
  },
  {
   "cell_type": "code",
   "execution_count": 13,
   "id": "26852225",
   "metadata": {},
   "outputs": [
    {
     "data": {
      "text/plain": [
       "AnnData object with n_obs × n_vars = 101074 × 18082\n",
       "    obs: 'in_tissue', 'cell_type', 'sample_name', 'sample_type'\n",
       "    uns: 'layout', 'spatial', 'spatialdata_attrs'\n",
       "    obsm: 'spatial'"
      ]
     },
     "execution_count": 13,
     "metadata": {},
     "output_type": "execute_result"
    }
   ],
   "source": [
    "ductal_adata"
   ]
  },
  {
   "cell_type": "code",
   "execution_count": 14,
   "id": "979b8333",
   "metadata": {},
   "outputs": [
    {
     "data": {
      "text/html": [
       "<div>\n",
       "<style scoped>\n",
       "    .dataframe tbody tr th:only-of-type {\n",
       "        vertical-align: middle;\n",
       "    }\n",
       "\n",
       "    .dataframe tbody tr th {\n",
       "        vertical-align: top;\n",
       "    }\n",
       "\n",
       "    .dataframe thead th {\n",
       "        text-align: right;\n",
       "    }\n",
       "</style>\n",
       "<table border=\"1\" class=\"dataframe\">\n",
       "  <thead>\n",
       "    <tr style=\"text-align: right;\">\n",
       "      <th></th>\n",
       "      <th>in_tissue</th>\n",
       "      <th>cell_type</th>\n",
       "      <th>sample_name</th>\n",
       "      <th>sample_type</th>\n",
       "    </tr>\n",
       "  </thead>\n",
       "  <tbody>\n",
       "    <tr>\n",
       "      <th>AACATACTCATATGCG-1-0</th>\n",
       "      <td>1</td>\n",
       "      <td>DUCTAL</td>\n",
       "      <td>BTC01_visium</td>\n",
       "      <td>standard</td>\n",
       "    </tr>\n",
       "    <tr>\n",
       "      <th>AACATCGCGTGACCAC-1-0</th>\n",
       "      <td>0</td>\n",
       "      <td>DUCTAL</td>\n",
       "      <td>BTC01_visium</td>\n",
       "      <td>standard</td>\n",
       "    </tr>\n",
       "    <tr>\n",
       "      <th>AACCAAGGTATCAGGC-1-0</th>\n",
       "      <td>1</td>\n",
       "      <td>DUCTAL</td>\n",
       "      <td>BTC01_visium</td>\n",
       "      <td>standard</td>\n",
       "    </tr>\n",
       "    <tr>\n",
       "      <th>AACCACTGCCATAGCC-1-0</th>\n",
       "      <td>1</td>\n",
       "      <td>DUCTAL</td>\n",
       "      <td>BTC01_visium</td>\n",
       "      <td>standard</td>\n",
       "    </tr>\n",
       "    <tr>\n",
       "      <th>AACCGCATGTATGTTA-1-0</th>\n",
       "      <td>1</td>\n",
       "      <td>DUCTAL</td>\n",
       "      <td>BTC01_visium</td>\n",
       "      <td>standard</td>\n",
       "    </tr>\n",
       "    <tr>\n",
       "      <th>...</th>\n",
       "      <td>...</td>\n",
       "      <td>...</td>\n",
       "      <td>...</td>\n",
       "      <td>...</td>\n",
       "    </tr>\n",
       "    <tr>\n",
       "      <th>s_016um_00193_00258-1-10</th>\n",
       "      <td>1</td>\n",
       "      <td>CYCLING DUCTAL</td>\n",
       "      <td>HC08BTC_visiumHD</td>\n",
       "      <td>HD</td>\n",
       "    </tr>\n",
       "    <tr>\n",
       "      <th>s_016um_00247_00325-1-10</th>\n",
       "      <td>1</td>\n",
       "      <td>CYCLING DUCTAL</td>\n",
       "      <td>HC08BTC_visiumHD</td>\n",
       "      <td>HD</td>\n",
       "    </tr>\n",
       "    <tr>\n",
       "      <th>s_016um_00225_00261-1-10</th>\n",
       "      <td>1</td>\n",
       "      <td>DUCTAL</td>\n",
       "      <td>HC08BTC_visiumHD</td>\n",
       "      <td>HD</td>\n",
       "    </tr>\n",
       "    <tr>\n",
       "      <th>s_016um_00220_00218-1-10</th>\n",
       "      <td>1</td>\n",
       "      <td>DUCTAL</td>\n",
       "      <td>HC08BTC_visiumHD</td>\n",
       "      <td>HD</td>\n",
       "    </tr>\n",
       "    <tr>\n",
       "      <th>s_016um_00218_00216-1-10</th>\n",
       "      <td>1</td>\n",
       "      <td>DUCTAL</td>\n",
       "      <td>HC08BTC_visiumHD</td>\n",
       "      <td>HD</td>\n",
       "    </tr>\n",
       "  </tbody>\n",
       "</table>\n",
       "<p>101074 rows × 4 columns</p>\n",
       "</div>"
      ],
      "text/plain": [
       "                          in_tissue       cell_type       sample_name  \\\n",
       "AACATACTCATATGCG-1-0              1          DUCTAL      BTC01_visium   \n",
       "AACATCGCGTGACCAC-1-0              0          DUCTAL      BTC01_visium   \n",
       "AACCAAGGTATCAGGC-1-0              1          DUCTAL      BTC01_visium   \n",
       "AACCACTGCCATAGCC-1-0              1          DUCTAL      BTC01_visium   \n",
       "AACCGCATGTATGTTA-1-0              1          DUCTAL      BTC01_visium   \n",
       "...                             ...             ...               ...   \n",
       "s_016um_00193_00258-1-10          1  CYCLING DUCTAL  HC08BTC_visiumHD   \n",
       "s_016um_00247_00325-1-10          1  CYCLING DUCTAL  HC08BTC_visiumHD   \n",
       "s_016um_00225_00261-1-10          1          DUCTAL  HC08BTC_visiumHD   \n",
       "s_016um_00220_00218-1-10          1          DUCTAL  HC08BTC_visiumHD   \n",
       "s_016um_00218_00216-1-10          1          DUCTAL  HC08BTC_visiumHD   \n",
       "\n",
       "                         sample_type  \n",
       "AACATACTCATATGCG-1-0        standard  \n",
       "AACATCGCGTGACCAC-1-0        standard  \n",
       "AACCAAGGTATCAGGC-1-0        standard  \n",
       "AACCACTGCCATAGCC-1-0        standard  \n",
       "AACCGCATGTATGTTA-1-0        standard  \n",
       "...                              ...  \n",
       "s_016um_00193_00258-1-10          HD  \n",
       "s_016um_00247_00325-1-10          HD  \n",
       "s_016um_00225_00261-1-10          HD  \n",
       "s_016um_00220_00218-1-10          HD  \n",
       "s_016um_00218_00216-1-10          HD  \n",
       "\n",
       "[101074 rows x 4 columns]"
      ]
     },
     "execution_count": 14,
     "metadata": {},
     "output_type": "execute_result"
    }
   ],
   "source": [
    "ductal_adata.obs"
   ]
  },
  {
   "cell_type": "code",
   "execution_count": 15,
   "id": "d6efcc58",
   "metadata": {},
   "outputs": [
    {
     "data": {
      "text/plain": [
       "sample_name\n",
       "HC01BTC_visiumHD    43343\n",
       "HC07BTC_visiumHD    20245\n",
       "HC04BTC_visiumHD    17190\n",
       "HC05BTC_visiumHD    11599\n",
       "HC03BTC_visiumHD     3156\n",
       "BTC01_visium         1608\n",
       "BTC03_visium         1230\n",
       "BTC13_visium          754\n",
       "HC02BTC_visiumHD      691\n",
       "BTC09_visium          634\n",
       "HC08BTC_visiumHD      624\n",
       "Name: count, dtype: int64"
      ]
     },
     "execution_count": 15,
     "metadata": {},
     "output_type": "execute_result"
    }
   ],
   "source": [
    "ductal_adata.obs[\"sample_name\"].value_counts()"
   ]
  },
  {
   "cell_type": "code",
   "execution_count": 16,
   "id": "0409b0d0",
   "metadata": {},
   "outputs": [
    {
     "data": {
      "text/plain": [
       "cell_type\n",
       "DUCTAL            61136\n",
       "CYCLING DUCTAL    39938\n",
       "Name: count, dtype: int64"
      ]
     },
     "execution_count": 16,
     "metadata": {},
     "output_type": "execute_result"
    }
   ],
   "source": [
    "ductal_adata.obs[\"cell_type\"].value_counts()"
   ]
  },
  {
   "cell_type": "code",
   "execution_count": 17,
   "id": "15949e08",
   "metadata": {},
   "outputs": [
    {
     "data": {
      "text/plain": [
       "AnnData object with n_obs × n_vars = 435325 × 18082\n",
       "    obs: 'in_tissue', 'cell_type', 'sample_name', 'sample_type'\n",
       "    uns: 'layout', 'spatial', 'spatialdata_attrs'\n",
       "    obsm: 'spatial'"
      ]
     },
     "execution_count": 17,
     "metadata": {},
     "output_type": "execute_result"
    }
   ],
   "source": [
    "fibro_ductal_adata"
   ]
  },
  {
   "cell_type": "code",
   "execution_count": 18,
   "id": "bbafe72f",
   "metadata": {},
   "outputs": [
    {
     "data": {
      "text/html": [
       "<div>\n",
       "<style scoped>\n",
       "    .dataframe tbody tr th:only-of-type {\n",
       "        vertical-align: middle;\n",
       "    }\n",
       "\n",
       "    .dataframe tbody tr th {\n",
       "        vertical-align: top;\n",
       "    }\n",
       "\n",
       "    .dataframe thead th {\n",
       "        text-align: right;\n",
       "    }\n",
       "</style>\n",
       "<table border=\"1\" class=\"dataframe\">\n",
       "  <thead>\n",
       "    <tr style=\"text-align: right;\">\n",
       "      <th></th>\n",
       "      <th>in_tissue</th>\n",
       "      <th>cell_type</th>\n",
       "      <th>sample_name</th>\n",
       "      <th>sample_type</th>\n",
       "    </tr>\n",
       "  </thead>\n",
       "  <tbody>\n",
       "    <tr>\n",
       "      <th>AACACCTACTATCGAA-1-0</th>\n",
       "      <td>1</td>\n",
       "      <td>FIBROBLASTS</td>\n",
       "      <td>BTC01_visium</td>\n",
       "      <td>standard</td>\n",
       "    </tr>\n",
       "    <tr>\n",
       "      <th>AACACGTGCATCGCAC-1-0</th>\n",
       "      <td>1</td>\n",
       "      <td>FIBROBLASTS</td>\n",
       "      <td>BTC01_visium</td>\n",
       "      <td>standard</td>\n",
       "    </tr>\n",
       "    <tr>\n",
       "      <th>AACACTTGGCAAGGAA-1-0</th>\n",
       "      <td>1</td>\n",
       "      <td>FIBROBLASTS</td>\n",
       "      <td>BTC01_visium</td>\n",
       "      <td>standard</td>\n",
       "    </tr>\n",
       "    <tr>\n",
       "      <th>AACAGGAAGAGCATAG-1-0</th>\n",
       "      <td>1</td>\n",
       "      <td>FIBROBLASTS</td>\n",
       "      <td>BTC01_visium</td>\n",
       "      <td>standard</td>\n",
       "    </tr>\n",
       "    <tr>\n",
       "      <th>AACAGGATTCATAGTT-1-0</th>\n",
       "      <td>1</td>\n",
       "      <td>FIBROBLASTS</td>\n",
       "      <td>BTC01_visium</td>\n",
       "      <td>standard</td>\n",
       "    </tr>\n",
       "    <tr>\n",
       "      <th>...</th>\n",
       "      <td>...</td>\n",
       "      <td>...</td>\n",
       "      <td>...</td>\n",
       "      <td>...</td>\n",
       "    </tr>\n",
       "    <tr>\n",
       "      <th>s_016um_00217_00238-1-10</th>\n",
       "      <td>1</td>\n",
       "      <td>FIBROBLASTS</td>\n",
       "      <td>HC08BTC_visiumHD</td>\n",
       "      <td>HD</td>\n",
       "    </tr>\n",
       "    <tr>\n",
       "      <th>s_016um_00122_00358-1-10</th>\n",
       "      <td>1</td>\n",
       "      <td>FIBROBLASTS</td>\n",
       "      <td>HC08BTC_visiumHD</td>\n",
       "      <td>HD</td>\n",
       "    </tr>\n",
       "    <tr>\n",
       "      <th>s_016um_00197_00110-1-10</th>\n",
       "      <td>1</td>\n",
       "      <td>FIBROBLASTS</td>\n",
       "      <td>HC08BTC_visiumHD</td>\n",
       "      <td>HD</td>\n",
       "    </tr>\n",
       "    <tr>\n",
       "      <th>s_016um_00224_00113-1-10</th>\n",
       "      <td>1</td>\n",
       "      <td>FIBROBLASTS</td>\n",
       "      <td>HC08BTC_visiumHD</td>\n",
       "      <td>HD</td>\n",
       "    </tr>\n",
       "    <tr>\n",
       "      <th>s_016um_00212_00331-1-10</th>\n",
       "      <td>1</td>\n",
       "      <td>FIBROBLASTS</td>\n",
       "      <td>HC08BTC_visiumHD</td>\n",
       "      <td>HD</td>\n",
       "    </tr>\n",
       "  </tbody>\n",
       "</table>\n",
       "<p>435325 rows × 4 columns</p>\n",
       "</div>"
      ],
      "text/plain": [
       "                          in_tissue    cell_type       sample_name sample_type\n",
       "AACACCTACTATCGAA-1-0              1  FIBROBLASTS      BTC01_visium    standard\n",
       "AACACGTGCATCGCAC-1-0              1  FIBROBLASTS      BTC01_visium    standard\n",
       "AACACTTGGCAAGGAA-1-0              1  FIBROBLASTS      BTC01_visium    standard\n",
       "AACAGGAAGAGCATAG-1-0              1  FIBROBLASTS      BTC01_visium    standard\n",
       "AACAGGATTCATAGTT-1-0              1  FIBROBLASTS      BTC01_visium    standard\n",
       "...                             ...          ...               ...         ...\n",
       "s_016um_00217_00238-1-10          1  FIBROBLASTS  HC08BTC_visiumHD          HD\n",
       "s_016um_00122_00358-1-10          1  FIBROBLASTS  HC08BTC_visiumHD          HD\n",
       "s_016um_00197_00110-1-10          1  FIBROBLASTS  HC08BTC_visiumHD          HD\n",
       "s_016um_00224_00113-1-10          1  FIBROBLASTS  HC08BTC_visiumHD          HD\n",
       "s_016um_00212_00331-1-10          1  FIBROBLASTS  HC08BTC_visiumHD          HD\n",
       "\n",
       "[435325 rows x 4 columns]"
      ]
     },
     "execution_count": 18,
     "metadata": {},
     "output_type": "execute_result"
    }
   ],
   "source": [
    "fibro_ductal_adata.obs"
   ]
  },
  {
   "cell_type": "code",
   "execution_count": 19,
   "id": "65262a49",
   "metadata": {},
   "outputs": [
    {
     "data": {
      "text/plain": [
       "sample_name\n",
       "HC07BTC_visiumHD    128259\n",
       "HC01BTC_visiumHD    116110\n",
       "HC04BTC_visiumHD     89395\n",
       "HC03BTC_visiumHD     39259\n",
       "HC08BTC_visiumHD     22317\n",
       "HC05BTC_visiumHD     20711\n",
       "BTC03_visium          4784\n",
       "BTC09_visium          4710\n",
       "BTC13_visium          4596\n",
       "BTC01_visium          4427\n",
       "HC02BTC_visiumHD       757\n",
       "Name: count, dtype: int64"
      ]
     },
     "execution_count": 19,
     "metadata": {},
     "output_type": "execute_result"
    }
   ],
   "source": [
    "fibro_ductal_adata.obs[\"sample_name\"].value_counts()"
   ]
  },
  {
   "cell_type": "code",
   "execution_count": 20,
   "id": "54d6791f",
   "metadata": {},
   "outputs": [
    {
     "data": {
      "text/plain": [
       "cell_type\n",
       "FIBROBLASTS       334251\n",
       "DUCTAL             61136\n",
       "CYCLING DUCTAL     39938\n",
       "Name: count, dtype: int64"
      ]
     },
     "execution_count": 20,
     "metadata": {},
     "output_type": "execute_result"
    }
   ],
   "source": [
    "fibro_ductal_adata.obs[\"cell_type\"].value_counts()"
   ]
  },
  {
   "cell_type": "code",
   "execution_count": null,
   "id": "1f167ae4",
   "metadata": {},
   "outputs": [],
   "source": []
  }
 ],
 "metadata": {
  "kernelspec": {
   "display_name": "scirpy2",
   "language": "python",
   "name": "python3"
  },
  "language_info": {
   "codemirror_mode": {
    "name": "ipython",
    "version": 3
   },
   "file_extension": ".py",
   "mimetype": "text/x-python",
   "name": "python",
   "nbconvert_exporter": "python",
   "pygments_lexer": "ipython3",
   "version": "3.11.8"
  }
 },
 "nbformat": 4,
 "nbformat_minor": 5
}
